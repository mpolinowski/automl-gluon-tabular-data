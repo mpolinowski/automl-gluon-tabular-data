{
 "cells": [
  {
   "cell_type": "markdown",
   "id": "6fc393da",
   "metadata": {},
   "source": [
    "# AutoML with AutoGluon for Tabular Data"
   ]
  },
  {
   "cell_type": "code",
   "execution_count": 9,
   "id": "80a36f4e",
   "metadata": {
    "collapsed": true
   },
   "outputs": [
    {
     "name": "stdout",
     "output_type": "stream",
     "text": [
      "--2023-06-22 18:29:38--  https://raw.githubusercontent.com/mgrafals/Uber-Data-Engineering-Project/main/uber_data.csv\n",
      "Loaded CA certificate '/etc/ssl/certs/ca-certificates.crt'\n",
      "Resolving raw.githubusercontent.com (raw.githubusercontent.com)... 185.199.110.133, 185.199.109.133, 185.199.108.133, ...\n",
      "Connecting to raw.githubusercontent.com (raw.githubusercontent.com)|185.199.110.133|:443... connected.\n",
      "HTTP request sent, awaiting response... 200 OK\n",
      "Length: 15824375 (15M) [text/plain]\n",
      "Saving to: ‘dataset/uber_data.csv’\n",
      "\n",
      "uber_data.csv       100%[===================>]  15.09M  6.63MB/s    in 2.3s    \n",
      "\n",
      "2023-06-22 18:29:43 (6.63 MB/s) - ‘dataset/uber_data.csv’ saved [15824375/15824375]\n",
      "\n"
     ]
    }
   ],
   "source": [
    "# get dataset\n",
    "! wget https://raw.githubusercontent.com/mgrafals/Uber-Data-Engineering-Project/main/uber_data.csv -P dataset"
   ]
  },
  {
   "cell_type": "markdown",
   "id": "996d39f2",
   "metadata": {},
   "source": [
    "## Tabular Data Regression"
   ]
  },
  {
   "cell_type": "code",
   "execution_count": 1,
   "id": "e01c68fa",
   "metadata": {},
   "outputs": [],
   "source": [
    "from autogluon.tabular import TabularDataset, TabularPredictor\n",
    "import matplotlib.pyplot as plt\n",
    "import numpy as np\n",
    "import pandas as pd\n",
    "from ray import tune\n",
    "import seaborn as sns"
   ]
  },
  {
   "cell_type": "code",
   "execution_count": 2,
   "id": "63c76e5c",
   "metadata": {},
   "outputs": [],
   "source": [
    "SEED = 42\n",
    "MODEL_PATH = 'model'"
   ]
  },
  {
   "cell_type": "markdown",
   "id": "a885cd6b",
   "metadata": {},
   "source": [
    "### Data Preprocessing"
   ]
  },
  {
   "cell_type": "code",
   "execution_count": 3,
   "id": "3395ace9",
   "metadata": {
    "collapsed": true
   },
   "outputs": [
    {
     "data": {
      "text/html": [
       "<div>\n",
       "<style scoped>\n",
       "    .dataframe tbody tr th:only-of-type {\n",
       "        vertical-align: middle;\n",
       "    }\n",
       "\n",
       "    .dataframe tbody tr th {\n",
       "        vertical-align: top;\n",
       "    }\n",
       "\n",
       "    .dataframe thead th {\n",
       "        text-align: right;\n",
       "    }\n",
       "</style>\n",
       "<table border=\"1\" class=\"dataframe\">\n",
       "  <thead>\n",
       "    <tr style=\"text-align: right;\">\n",
       "      <th></th>\n",
       "      <th>0</th>\n",
       "      <th>1</th>\n",
       "      <th>2</th>\n",
       "      <th>3</th>\n",
       "      <th>4</th>\n",
       "    </tr>\n",
       "  </thead>\n",
       "  <tbody>\n",
       "    <tr>\n",
       "      <th>VendorID</th>\n",
       "      <td>1</td>\n",
       "      <td>1</td>\n",
       "      <td>2</td>\n",
       "      <td>2</td>\n",
       "      <td>2</td>\n",
       "    </tr>\n",
       "    <tr>\n",
       "      <th>tpep_pickup_datetime</th>\n",
       "      <td>2016-03-01 00:00:00</td>\n",
       "      <td>2016-03-01 00:00:00</td>\n",
       "      <td>2016-03-01 00:00:00</td>\n",
       "      <td>2016-03-01 00:00:00</td>\n",
       "      <td>2016-03-01 00:00:00</td>\n",
       "    </tr>\n",
       "    <tr>\n",
       "      <th>tpep_dropoff_datetime</th>\n",
       "      <td>2016-03-01 00:07:55</td>\n",
       "      <td>2016-03-01 00:11:06</td>\n",
       "      <td>2016-03-01 00:31:06</td>\n",
       "      <td>2016-03-01 00:00:00</td>\n",
       "      <td>2016-03-01 00:00:00</td>\n",
       "    </tr>\n",
       "    <tr>\n",
       "      <th>passenger_count</th>\n",
       "      <td>1</td>\n",
       "      <td>1</td>\n",
       "      <td>2</td>\n",
       "      <td>3</td>\n",
       "      <td>5</td>\n",
       "    </tr>\n",
       "    <tr>\n",
       "      <th>trip_distance</th>\n",
       "      <td>2.5</td>\n",
       "      <td>2.9</td>\n",
       "      <td>19.98</td>\n",
       "      <td>10.78</td>\n",
       "      <td>30.43</td>\n",
       "    </tr>\n",
       "    <tr>\n",
       "      <th>pickup_longitude</th>\n",
       "      <td>-73.976746</td>\n",
       "      <td>-73.983482</td>\n",
       "      <td>-73.782021</td>\n",
       "      <td>-73.863419</td>\n",
       "      <td>-73.971741</td>\n",
       "    </tr>\n",
       "    <tr>\n",
       "      <th>pickup_latitude</th>\n",
       "      <td>40.765152</td>\n",
       "      <td>40.767925</td>\n",
       "      <td>40.64481</td>\n",
       "      <td>40.769814</td>\n",
       "      <td>40.792183</td>\n",
       "    </tr>\n",
       "    <tr>\n",
       "      <th>RatecodeID</th>\n",
       "      <td>1</td>\n",
       "      <td>1</td>\n",
       "      <td>1</td>\n",
       "      <td>1</td>\n",
       "      <td>3</td>\n",
       "    </tr>\n",
       "    <tr>\n",
       "      <th>store_and_fwd_flag</th>\n",
       "      <td>N</td>\n",
       "      <td>N</td>\n",
       "      <td>N</td>\n",
       "      <td>N</td>\n",
       "      <td>N</td>\n",
       "    </tr>\n",
       "    <tr>\n",
       "      <th>dropoff_longitude</th>\n",
       "      <td>-74.004265</td>\n",
       "      <td>-74.005943</td>\n",
       "      <td>-73.974541</td>\n",
       "      <td>-73.96965</td>\n",
       "      <td>-74.17717</td>\n",
       "    </tr>\n",
       "    <tr>\n",
       "      <th>dropoff_latitude</th>\n",
       "      <td>40.746128</td>\n",
       "      <td>40.733166</td>\n",
       "      <td>40.67577</td>\n",
       "      <td>40.757767</td>\n",
       "      <td>40.695053</td>\n",
       "    </tr>\n",
       "    <tr>\n",
       "      <th>payment_type</th>\n",
       "      <td>1</td>\n",
       "      <td>1</td>\n",
       "      <td>1</td>\n",
       "      <td>1</td>\n",
       "      <td>1</td>\n",
       "    </tr>\n",
       "    <tr>\n",
       "      <th>fare_amount</th>\n",
       "      <td>9.0</td>\n",
       "      <td>11.0</td>\n",
       "      <td>54.5</td>\n",
       "      <td>31.5</td>\n",
       "      <td>98.0</td>\n",
       "    </tr>\n",
       "    <tr>\n",
       "      <th>extra</th>\n",
       "      <td>0.5</td>\n",
       "      <td>0.5</td>\n",
       "      <td>0.5</td>\n",
       "      <td>0.0</td>\n",
       "      <td>0.0</td>\n",
       "    </tr>\n",
       "    <tr>\n",
       "      <th>mta_tax</th>\n",
       "      <td>0.5</td>\n",
       "      <td>0.5</td>\n",
       "      <td>0.5</td>\n",
       "      <td>0.5</td>\n",
       "      <td>0.0</td>\n",
       "    </tr>\n",
       "    <tr>\n",
       "      <th>tip_amount</th>\n",
       "      <td>2.05</td>\n",
       "      <td>3.05</td>\n",
       "      <td>8.0</td>\n",
       "      <td>3.78</td>\n",
       "      <td>0.0</td>\n",
       "    </tr>\n",
       "    <tr>\n",
       "      <th>tolls_amount</th>\n",
       "      <td>0.0</td>\n",
       "      <td>0.0</td>\n",
       "      <td>0.0</td>\n",
       "      <td>5.54</td>\n",
       "      <td>15.5</td>\n",
       "    </tr>\n",
       "    <tr>\n",
       "      <th>improvement_surcharge</th>\n",
       "      <td>0.3</td>\n",
       "      <td>0.3</td>\n",
       "      <td>0.3</td>\n",
       "      <td>0.3</td>\n",
       "      <td>0.3</td>\n",
       "    </tr>\n",
       "    <tr>\n",
       "      <th>total_amount</th>\n",
       "      <td>12.35</td>\n",
       "      <td>15.35</td>\n",
       "      <td>63.8</td>\n",
       "      <td>41.62</td>\n",
       "      <td>113.8</td>\n",
       "    </tr>\n",
       "  </tbody>\n",
       "</table>\n",
       "</div>"
      ],
      "text/plain": [
       "                                         0                    1  \\\n",
       "VendorID                                 1                    1   \n",
       "tpep_pickup_datetime   2016-03-01 00:00:00  2016-03-01 00:00:00   \n",
       "tpep_dropoff_datetime  2016-03-01 00:07:55  2016-03-01 00:11:06   \n",
       "passenger_count                          1                    1   \n",
       "trip_distance                          2.5                  2.9   \n",
       "pickup_longitude                -73.976746           -73.983482   \n",
       "pickup_latitude                  40.765152            40.767925   \n",
       "RatecodeID                               1                    1   \n",
       "store_and_fwd_flag                       N                    N   \n",
       "dropoff_longitude               -74.004265           -74.005943   \n",
       "dropoff_latitude                 40.746128            40.733166   \n",
       "payment_type                             1                    1   \n",
       "fare_amount                            9.0                 11.0   \n",
       "extra                                  0.5                  0.5   \n",
       "mta_tax                                0.5                  0.5   \n",
       "tip_amount                            2.05                 3.05   \n",
       "tolls_amount                           0.0                  0.0   \n",
       "improvement_surcharge                  0.3                  0.3   \n",
       "total_amount                         12.35                15.35   \n",
       "\n",
       "                                         2                    3  \\\n",
       "VendorID                                 2                    2   \n",
       "tpep_pickup_datetime   2016-03-01 00:00:00  2016-03-01 00:00:00   \n",
       "tpep_dropoff_datetime  2016-03-01 00:31:06  2016-03-01 00:00:00   \n",
       "passenger_count                          2                    3   \n",
       "trip_distance                        19.98                10.78   \n",
       "pickup_longitude                -73.782021           -73.863419   \n",
       "pickup_latitude                   40.64481            40.769814   \n",
       "RatecodeID                               1                    1   \n",
       "store_and_fwd_flag                       N                    N   \n",
       "dropoff_longitude               -73.974541            -73.96965   \n",
       "dropoff_latitude                  40.67577            40.757767   \n",
       "payment_type                             1                    1   \n",
       "fare_amount                           54.5                 31.5   \n",
       "extra                                  0.5                  0.0   \n",
       "mta_tax                                0.5                  0.5   \n",
       "tip_amount                             8.0                 3.78   \n",
       "tolls_amount                           0.0                 5.54   \n",
       "improvement_surcharge                  0.3                  0.3   \n",
       "total_amount                          63.8                41.62   \n",
       "\n",
       "                                         4  \n",
       "VendorID                                 2  \n",
       "tpep_pickup_datetime   2016-03-01 00:00:00  \n",
       "tpep_dropoff_datetime  2016-03-01 00:00:00  \n",
       "passenger_count                          5  \n",
       "trip_distance                        30.43  \n",
       "pickup_longitude                -73.971741  \n",
       "pickup_latitude                  40.792183  \n",
       "RatecodeID                               3  \n",
       "store_and_fwd_flag                       N  \n",
       "dropoff_longitude                -74.17717  \n",
       "dropoff_latitude                 40.695053  \n",
       "payment_type                             1  \n",
       "fare_amount                           98.0  \n",
       "extra                                  0.0  \n",
       "mta_tax                                0.0  \n",
       "tip_amount                             0.0  \n",
       "tolls_amount                          15.5  \n",
       "improvement_surcharge                  0.3  \n",
       "total_amount                         113.8  "
      ]
     },
     "execution_count": 3,
     "metadata": {},
     "output_type": "execute_result"
    }
   ],
   "source": [
    "data = TabularDataset('dataset/uber_data.csv')\n",
    "data.head().transpose()"
   ]
  },
  {
   "cell_type": "markdown",
   "id": "0ff47b35",
   "metadata": {},
   "source": [
    "|  | 0 | 1 | 2 | 3 | 4 |\n",
    "| -- | -- | -- | -- | -- | -- |\n",
    "| VendorID | 1 | 1 | 2 | 2 | 2 |\n",
    "| tpep_pickup_datetime | 2016-03-01 00:00:00 | 2016-03-01 00:00:00 | 2016-03-01 00:00:00 | 2016-03-01 00:00:00 | 2016-03-01 00:00:00 |\n",
    "| tpep_dropoff_datetime | 2016-03-01 00:07:55 | 2016-03-01 00:11:06 | 2016-03-01 00:31:06 | 2016-03-01 00:00:00 | 2016-03-01 00:00:00 |\n",
    "| passenger_count | 1 | 1 | 2 | 3 | 5 |\n",
    "| trip_distance | 2.5 | 2.9 | 19.98 | 10.78 | 30.43 |\n",
    "| pickup_longitude | -73.976746 | -73.983482 | -73.782021 | -73.863419 | -73.971741 |\n",
    "| pickup_latitude | 40.765152 | 40.767925 | 40.64481 | 40.769814 | 40.792183 |\n",
    "| RatecodeID | 1 | 1 | 1 | 1 | 3 |\n",
    "| store_and_fwd_flag | N | N | N | N | N |\n",
    "| dropoff_longitude | -74.004265 | -74.005943 | -73.974541 | -73.96965 | -74.17717 |\n",
    "| dropoff_latitude | 40.746128 | 40.733166 | 40.67577 | 40.757767 | 40.695053 |\n",
    "| payment_type | 1 | 1 | 1 | 1 | 1 |\n",
    "| fare_amount | 9.0 | 11.0 | 54.5 | 31.5 | 98.0 |\n",
    "| extra | 0.5 | 0.5 | 0.5 | 0.0 | 0.0 |\n",
    "| mta_tax | 0.5 | 0.5 | 0.5 | 0.5 | 0.0 |\n",
    "| tip_amount | 2.05 | 3.05 | 8.0 | 3.78 | 0.0 |\n",
    "| tolls_amount | 0.0 | 0.0 | 0.0 | 5.54 | 15.5 |\n",
    "| improvement_surcharge | 0.3 | 0.3 | 0.3 | 0.3 | 0.3 |\n",
    "| total_amount | 12.35 | 15.35 | 63.8 | 41.62 | 113.8 |"
   ]
  },
  {
   "cell_type": "code",
   "execution_count": 4,
   "id": "548ea2a9",
   "metadata": {},
   "outputs": [],
   "source": [
    "# there are two values that directly scale with the label\n",
    "# of of passenger fare: fare_amount and total_amount -> drop the latter\n",
    "data = data.drop('total_amount', axis=1)"
   ]
  },
  {
   "cell_type": "code",
   "execution_count": 5,
   "id": "36c77e0e",
   "metadata": {
    "collapsed": true
   },
   "outputs": [
    {
     "name": "stdout",
     "output_type": "stream",
     "text": [
      "<class 'autogluon.core.dataset.TabularDataset'>\n",
      "RangeIndex: 100000 entries, 0 to 99999\n",
      "Data columns (total 18 columns):\n",
      " #   Column                 Non-Null Count   Dtype  \n",
      "---  ------                 --------------   -----  \n",
      " 0   VendorID               100000 non-null  int64  \n",
      " 1   tpep_pickup_datetime   100000 non-null  object \n",
      " 2   tpep_dropoff_datetime  100000 non-null  object \n",
      " 3   passenger_count        100000 non-null  int64  \n",
      " 4   trip_distance          100000 non-null  float64\n",
      " 5   pickup_longitude       100000 non-null  float64\n",
      " 6   pickup_latitude        100000 non-null  float64\n",
      " 7   RatecodeID             100000 non-null  int64  \n",
      " 8   store_and_fwd_flag     100000 non-null  object \n",
      " 9   dropoff_longitude      100000 non-null  float64\n",
      " 10  dropoff_latitude       100000 non-null  float64\n",
      " 11  payment_type           100000 non-null  int64  \n",
      " 12  fare_amount            100000 non-null  float64\n",
      " 13  extra                  100000 non-null  float64\n",
      " 14  mta_tax                100000 non-null  float64\n",
      " 15  tip_amount             100000 non-null  float64\n",
      " 16  tolls_amount           100000 non-null  float64\n",
      " 17  improvement_surcharge  100000 non-null  float64\n",
      "dtypes: float64(11), int64(4), object(3)\n",
      "memory usage: 13.7+ MB\n"
     ]
    }
   ],
   "source": [
    "data.info()\n",
    "# RangeIndex: 100000 entries, 0 to 99999\n",
    "# Data columns (total 18 columns):"
   ]
  },
  {
   "cell_type": "code",
   "execution_count": 5,
   "id": "769211b7",
   "metadata": {
    "collapsed": true
   },
   "outputs": [
    {
     "data": {
      "text/html": [
       "<div>\n",
       "<style scoped>\n",
       "    .dataframe tbody tr th:only-of-type {\n",
       "        vertical-align: middle;\n",
       "    }\n",
       "\n",
       "    .dataframe tbody tr th {\n",
       "        vertical-align: top;\n",
       "    }\n",
       "\n",
       "    .dataframe thead th {\n",
       "        text-align: right;\n",
       "    }\n",
       "</style>\n",
       "<table border=\"1\" class=\"dataframe\">\n",
       "  <thead>\n",
       "    <tr style=\"text-align: right;\">\n",
       "      <th></th>\n",
       "      <th>VendorID</th>\n",
       "      <th>passenger_count</th>\n",
       "      <th>trip_distance</th>\n",
       "      <th>pickup_longitude</th>\n",
       "      <th>pickup_latitude</th>\n",
       "      <th>RatecodeID</th>\n",
       "      <th>dropoff_longitude</th>\n",
       "      <th>dropoff_latitude</th>\n",
       "      <th>payment_type</th>\n",
       "      <th>fare_amount</th>\n",
       "      <th>extra</th>\n",
       "      <th>mta_tax</th>\n",
       "      <th>tip_amount</th>\n",
       "      <th>tolls_amount</th>\n",
       "      <th>improvement_surcharge</th>\n",
       "    </tr>\n",
       "  </thead>\n",
       "  <tbody>\n",
       "    <tr>\n",
       "      <th>count</th>\n",
       "      <td>50000.000000</td>\n",
       "      <td>50000.000000</td>\n",
       "      <td>50000.000000</td>\n",
       "      <td>50000.000000</td>\n",
       "      <td>50000.000000</td>\n",
       "      <td>50000.000000</td>\n",
       "      <td>50000.000000</td>\n",
       "      <td>50000.000000</td>\n",
       "      <td>50000.000000</td>\n",
       "      <td>50000.000000</td>\n",
       "      <td>50000.000000</td>\n",
       "      <td>50000.000000</td>\n",
       "      <td>50000.000000</td>\n",
       "      <td>50000.000000</td>\n",
       "      <td>50000.000000</td>\n",
       "    </tr>\n",
       "    <tr>\n",
       "      <th>mean</th>\n",
       "      <td>1.883160</td>\n",
       "      <td>1.926360</td>\n",
       "      <td>3.039138</td>\n",
       "      <td>-73.252772</td>\n",
       "      <td>40.355400</td>\n",
       "      <td>1.040780</td>\n",
       "      <td>-73.274211</td>\n",
       "      <td>40.367544</td>\n",
       "      <td>1.337420</td>\n",
       "      <td>13.287511</td>\n",
       "      <td>0.101730</td>\n",
       "      <td>0.496980</td>\n",
       "      <td>1.881304</td>\n",
       "      <td>0.367985</td>\n",
       "      <td>0.299484</td>\n",
       "    </tr>\n",
       "    <tr>\n",
       "      <th>std</th>\n",
       "      <td>0.321233</td>\n",
       "      <td>1.586212</td>\n",
       "      <td>3.851644</td>\n",
       "      <td>7.268226</td>\n",
       "      <td>4.002437</td>\n",
       "      <td>0.284462</td>\n",
       "      <td>7.156534</td>\n",
       "      <td>3.940944</td>\n",
       "      <td>0.482423</td>\n",
       "      <td>12.104265</td>\n",
       "      <td>0.202674</td>\n",
       "      <td>0.042906</td>\n",
       "      <td>2.582070</td>\n",
       "      <td>1.521707</td>\n",
       "      <td>0.016749</td>\n",
       "    </tr>\n",
       "    <tr>\n",
       "      <th>min</th>\n",
       "      <td>1.000000</td>\n",
       "      <td>0.000000</td>\n",
       "      <td>0.000000</td>\n",
       "      <td>-121.933151</td>\n",
       "      <td>0.000000</td>\n",
       "      <td>1.000000</td>\n",
       "      <td>-121.933327</td>\n",
       "      <td>0.000000</td>\n",
       "      <td>1.000000</td>\n",
       "      <td>-7.000000</td>\n",
       "      <td>-0.500000</td>\n",
       "      <td>-0.500000</td>\n",
       "      <td>-2.700000</td>\n",
       "      <td>0.000000</td>\n",
       "      <td>-0.300000</td>\n",
       "    </tr>\n",
       "    <tr>\n",
       "      <th>25%</th>\n",
       "      <td>2.000000</td>\n",
       "      <td>1.000000</td>\n",
       "      <td>1.000000</td>\n",
       "      <td>-73.990921</td>\n",
       "      <td>40.738933</td>\n",
       "      <td>1.000000</td>\n",
       "      <td>-73.990410</td>\n",
       "      <td>40.738776</td>\n",
       "      <td>1.000000</td>\n",
       "      <td>6.500000</td>\n",
       "      <td>0.000000</td>\n",
       "      <td>0.500000</td>\n",
       "      <td>0.000000</td>\n",
       "      <td>0.000000</td>\n",
       "      <td>0.300000</td>\n",
       "    </tr>\n",
       "    <tr>\n",
       "      <th>50%</th>\n",
       "      <td>2.000000</td>\n",
       "      <td>1.000000</td>\n",
       "      <td>1.670000</td>\n",
       "      <td>-73.980164</td>\n",
       "      <td>40.755428</td>\n",
       "      <td>1.000000</td>\n",
       "      <td>-73.978409</td>\n",
       "      <td>40.755249</td>\n",
       "      <td>1.000000</td>\n",
       "      <td>9.500000</td>\n",
       "      <td>0.000000</td>\n",
       "      <td>0.500000</td>\n",
       "      <td>1.360000</td>\n",
       "      <td>0.000000</td>\n",
       "      <td>0.300000</td>\n",
       "    </tr>\n",
       "    <tr>\n",
       "      <th>75%</th>\n",
       "      <td>2.000000</td>\n",
       "      <td>2.000000</td>\n",
       "      <td>3.200000</td>\n",
       "      <td>-73.964142</td>\n",
       "      <td>40.769090</td>\n",
       "      <td>1.000000</td>\n",
       "      <td>-73.962097</td>\n",
       "      <td>40.768002</td>\n",
       "      <td>2.000000</td>\n",
       "      <td>15.000000</td>\n",
       "      <td>0.000000</td>\n",
       "      <td>0.500000</td>\n",
       "      <td>2.460000</td>\n",
       "      <td>0.000000</td>\n",
       "      <td>0.300000</td>\n",
       "    </tr>\n",
       "    <tr>\n",
       "      <th>max</th>\n",
       "      <td>2.000000</td>\n",
       "      <td>6.000000</td>\n",
       "      <td>160.800000</td>\n",
       "      <td>0.000000</td>\n",
       "      <td>41.204548</td>\n",
       "      <td>6.000000</td>\n",
       "      <td>0.000000</td>\n",
       "      <td>42.666893</td>\n",
       "      <td>4.000000</td>\n",
       "      <td>819.500000</td>\n",
       "      <td>4.500000</td>\n",
       "      <td>0.500000</td>\n",
       "      <td>47.560000</td>\n",
       "      <td>22.040000</td>\n",
       "      <td>0.300000</td>\n",
       "    </tr>\n",
       "  </tbody>\n",
       "</table>\n",
       "</div>"
      ],
      "text/plain": [
       "           VendorID  passenger_count  trip_distance  pickup_longitude  \\\n",
       "count  50000.000000     50000.000000   50000.000000      50000.000000   \n",
       "mean       1.883160         1.926360       3.039138        -73.252772   \n",
       "std        0.321233         1.586212       3.851644          7.268226   \n",
       "min        1.000000         0.000000       0.000000       -121.933151   \n",
       "25%        2.000000         1.000000       1.000000        -73.990921   \n",
       "50%        2.000000         1.000000       1.670000        -73.980164   \n",
       "75%        2.000000         2.000000       3.200000        -73.964142   \n",
       "max        2.000000         6.000000     160.800000          0.000000   \n",
       "\n",
       "       pickup_latitude    RatecodeID  dropoff_longitude  dropoff_latitude  \\\n",
       "count     50000.000000  50000.000000       50000.000000      50000.000000   \n",
       "mean         40.355400      1.040780         -73.274211         40.367544   \n",
       "std           4.002437      0.284462           7.156534          3.940944   \n",
       "min           0.000000      1.000000        -121.933327          0.000000   \n",
       "25%          40.738933      1.000000         -73.990410         40.738776   \n",
       "50%          40.755428      1.000000         -73.978409         40.755249   \n",
       "75%          40.769090      1.000000         -73.962097         40.768002   \n",
       "max          41.204548      6.000000           0.000000         42.666893   \n",
       "\n",
       "       payment_type   fare_amount         extra       mta_tax    tip_amount  \\\n",
       "count  50000.000000  50000.000000  50000.000000  50000.000000  50000.000000   \n",
       "mean       1.337420     13.287511      0.101730      0.496980      1.881304   \n",
       "std        0.482423     12.104265      0.202674      0.042906      2.582070   \n",
       "min        1.000000     -7.000000     -0.500000     -0.500000     -2.700000   \n",
       "25%        1.000000      6.500000      0.000000      0.500000      0.000000   \n",
       "50%        1.000000      9.500000      0.000000      0.500000      1.360000   \n",
       "75%        2.000000     15.000000      0.000000      0.500000      2.460000   \n",
       "max        4.000000    819.500000      4.500000      0.500000     47.560000   \n",
       "\n",
       "       tolls_amount  improvement_surcharge  \n",
       "count  50000.000000           50000.000000  \n",
       "mean       0.367985               0.299484  \n",
       "std        1.521707               0.016749  \n",
       "min        0.000000              -0.300000  \n",
       "25%        0.000000               0.300000  \n",
       "50%        0.000000               0.300000  \n",
       "75%        0.000000               0.300000  \n",
       "max       22.040000               0.300000  "
      ]
     },
     "execution_count": 5,
     "metadata": {},
     "output_type": "execute_result"
    }
   ],
   "source": [
    "data_sample = data.sample(frac=0.5 , random_state=SEED)\n",
    "data_sample.describe()"
   ]
  },
  {
   "cell_type": "markdown",
   "id": "764139ae",
   "metadata": {},
   "source": [
    "| | VendorID | passenger_count | trip_distance | pickup_longitude | pickup_latitude | RatecodeID | dropoff_longitude | dropoff_latitude | payment_type | fare_amount | extra | mta_tax | tip_amount | tolls_amount | improvement_surcharge | total_amount |\n",
    "| -- | -- | -- | -- | -- | -- | -- | -- | -- | -- | -- | -- | -- | -- | -- | -- | -- |\n",
    "| count | 50000.000000 | 50000.000000 | 50000.000000 | 50000.000000 | 50000.000000 | 50000.000000 | 50000.000000 | 50000.000000 | 50000.000000 | 50000.000000 | 50000.000000 | 50000.000000 | 50000.000000 | 50000.000000 | 50000.000000 | 50000.000000 |\n",
    "| mean | 1.883160 | 1.926360 | 3.039138 | -73.252772 | 40.355400 | 1.040780 | -73.274211 | 40.367544 | 1.337420 | 13.287511 | 0.101730 | 0.496980 | 1.881304 | 0.367985 | 0.299484 | 16.434978 |\n",
    "| std | 0.321233 | 1.586212 | 3.851644 | 7.268226 | 4.002437 | 0.284462 | 7.156534 | 3.940944 | 0.482423 | 12.104265 | 0.202674 | 0.042906 | 2.582070 | 1.521707 | 0.016749 | 14.779261 |\n",
    "| min | 1.000000 | 0.000000 | 0.000000 | -121.933151 | 0.000000 | 1.000000 | -121.933327 | 0.000000 | 1.000000 | -7.000000 | -0.500000 | -0.500000 | -2.700000 | 0.000000 | -0.300000 | -10.140000 |\n",
    "| 25% | 2.000000 | 1.000000 | 1.000000 | -73.990921 | 40.738933 | 1.000000 | -73.990410 | 40.738776 | 1.000000 | 6.500000 | 0.000000 | 0.500000 | 0.000000 | 0.000000 | 0.300000 | 8.300000 |\n",
    "| 50% | 2.000000 | 1.000000 | 1.670000 | -73.980164 | 40.755428 | 1.000000 | -73.978409 | 40.755249 | 1.000000 | 9.500000 | 0.000000 | 0.500000 | 1.360000 | 0.000000 | 0.300000 | 11.800000 |\n",
    "| 75% | 2.000000 | 2.000000 | 3.200000 | -73.964142 | 40.769090 | 1.000000 | -73.962097 | 40.768002 | 2.000000 | 15.000000 | 0.000000 | 0.500000 | 2.460000 | 0.000000 | 0.300000 | 18.300000 |\n",
    "| max | 2.000000 | 6.000000 | 160.800000 | 0.000000 | 41.204548 | 6.000000 | 0.000000 | 42.666893 | 4.000000 | 819.500000 | 4.500000 | 0.500000 | 47.560000 | 22.040000 | 0.300000 | 832.800000 |"
   ]
  },
  {
   "cell_type": "code",
   "execution_count": 6,
   "id": "809f0c67",
   "metadata": {},
   "outputs": [],
   "source": [
    "# 80:20 train test split\n",
    "train_data = data_sample.sample(n=40000, random_state=SEED)\n",
    "test_data = data_sample.drop(train_data.index)"
   ]
  },
  {
   "cell_type": "markdown",
   "id": "b98c3871",
   "metadata": {},
   "source": [
    "### Model Training"
   ]
  },
  {
   "cell_type": "code",
   "execution_count": 8,
   "id": "75ff82f3",
   "metadata": {},
   "outputs": [
    {
     "name": "stderr",
     "output_type": "stream",
     "text": [
      "Warning: path already exists! This predictor may overwrite an existing predictor! path=\"model\"\n"
     ]
    }
   ],
   "source": [
    "predictor = TabularPredictor(label='fare_amount', path=MODEL_PATH)"
   ]
  },
  {
   "cell_type": "code",
   "execution_count": 9,
   "id": "504f0cd0",
   "metadata": {
    "collapsed": true
   },
   "outputs": [
    {
     "name": "stderr",
     "output_type": "stream",
     "text": [
      "Beginning AutoGluon training ...\n",
      "AutoGluon will save models to \"model/\"\n",
      "AutoGluon Version:  0.8.0\n",
      "Python Version:     3.10.10\n",
      "Operating System:   Linux\n",
      "Platform Machine:   x86_64\n",
      "Platform Version:   #1 SMP PREEMPT_DYNAMIC Tue May 30 23:14:35 UTC 2023\n",
      "Disk Space Avail:   63.52 GB / 500.10 GB (12.7%)\n",
      "Train Data Rows:    40000\n",
      "Train Data Columns: 17\n",
      "Label Column: fare_amount\n",
      "Preprocessing data ...\n",
      "AutoGluon infers your prediction problem is: 'regression' (because dtype of label-column == float and label-values can't be converted to int).\n",
      "\tLabel info (max, min, mean, stddev): (819.5, -7.0, 13.23572, 11.96267)\n",
      "\tIf 'regression' is not the correct problem_type, please manually specify the problem_type parameter during predictor init (You may specify problem_type as one of: ['binary', 'multiclass', 'regression'])\n",
      "Using Feature Generators to preprocess the data ...\n",
      "Fitting AutoMLPipelineFeatureGenerator...\n",
      "\tAvailable Memory:                    22700.09 MB\n",
      "\tTrain Data (Original)  Memory Usage: 12.88 MB (0.1% of available memory)\n",
      "\tInferring data type of each feature based on column values. Set feature_metadata_in to manually specify special dtypes of the features.\n",
      "\tStage 1 Generators:\n",
      "\t\tFitting AsTypeFeatureGenerator...\n",
      "\t\t\tNote: Converting 2 features to boolean dtype as they only contain 2 unique values.\n",
      "\tStage 2 Generators:\n",
      "\t\tFitting FillNaFeatureGenerator...\n",
      "\tStage 3 Generators:\n",
      "\t\tFitting IdentityFeatureGenerator...\n",
      "\t\tFitting DatetimeFeatureGenerator...\n",
      "\tStage 4 Generators:\n",
      "\t\tFitting DropUniqueFeatureGenerator...\n",
      "\tStage 5 Generators:\n",
      "\t\tFitting DropDuplicatesFeatureGenerator...\n",
      "\tTypes of features in original data (raw dtype, special dtypes):\n",
      "\t\t('float', [])                      : 10 | ['trip_distance', 'pickup_longitude', 'pickup_latitude', 'dropoff_longitude', 'dropoff_latitude', ...]\n",
      "\t\t('int', [])                        :  4 | ['VendorID', 'passenger_count', 'RatecodeID', 'payment_type']\n",
      "\t\t('object', [])                     :  1 | ['store_and_fwd_flag']\n",
      "\t\t('object', ['datetime_as_object']) :  2 | ['tpep_pickup_datetime', 'tpep_dropoff_datetime']\n",
      "\tTypes of features in processed data (raw dtype, special dtypes):\n",
      "\t\t('float', [])                : 10 | ['trip_distance', 'pickup_longitude', 'pickup_latitude', 'dropoff_longitude', 'dropoff_latitude', ...]\n",
      "\t\t('int', [])                  :  3 | ['passenger_count', 'RatecodeID', 'payment_type']\n",
      "\t\t('int', ['bool'])            :  2 | ['VendorID', 'store_and_fwd_flag']\n",
      "\t\t('int', ['datetime_as_int']) :  6 | ['tpep_pickup_datetime', 'tpep_pickup_datetime.day', 'tpep_pickup_datetime.dayofweek', 'tpep_dropoff_datetime', 'tpep_dropoff_datetime.day', ...]\n",
      "\t0.3s = Fit runtime\n",
      "\t17 features in original data used to generate 21 features in processed data.\n",
      "\tTrain Data (Processed) Memory Usage: 6.16 MB (0.0% of available memory)\n",
      "Data preprocessing and feature engineering runtime = 0.36s ...\n",
      "AutoGluon will gauge predictive performance using evaluation metric: 'root_mean_squared_error'\n",
      "\tThis metric's sign has been flipped to adhere to being higher_is_better. The metric score can be multiplied by -1 to get the metric value.\n",
      "\tTo change this, specify the eval_metric parameter of Predictor()\n",
      "Automatically generating train/validation split with holdout_frac=0.0625, Train Rows: 37500, Val Rows: 2500\n",
      "User-specified model hyperparameters to be fit:\n",
      "{\n",
      "\t'NN_TORCH': {},\n",
      "\t'GBM': [{'extra_trees': True, 'ag_args': {'name_suffix': 'XT'}}, {}, 'GBMLarge'],\n",
      "\t'CAT': {},\n",
      "\t'XGB': {},\n",
      "\t'FASTAI': {},\n",
      "\t'RF': [{'criterion': 'gini', 'ag_args': {'name_suffix': 'Gini', 'problem_types': ['binary', 'multiclass']}}, {'criterion': 'entropy', 'ag_args': {'name_suffix': 'Entr', 'problem_types': ['binary', 'multiclass']}}, {'criterion': 'squared_error', 'ag_args': {'name_suffix': 'MSE', 'problem_types': ['regression', 'quantile']}}],\n",
      "\t'XT': [{'criterion': 'gini', 'ag_args': {'name_suffix': 'Gini', 'problem_types': ['binary', 'multiclass']}}, {'criterion': 'entropy', 'ag_args': {'name_suffix': 'Entr', 'problem_types': ['binary', 'multiclass']}}, {'criterion': 'squared_error', 'ag_args': {'name_suffix': 'MSE', 'problem_types': ['regression', 'quantile']}}],\n",
      "\t'KNN': [{'weights': 'uniform', 'ag_args': {'name_suffix': 'Unif'}}, {'weights': 'distance', 'ag_args': {'name_suffix': 'Dist'}}],\n",
      "}\n",
      "Fitting 11 L1 models ...\n",
      "Fitting model: KNeighborsUnif ...\n",
      "\t-6.1597\t = Validation score   (-root_mean_squared_error)\n",
      "\t0.02s\t = Training   runtime\n",
      "\t0.14s\t = Validation runtime\n",
      "Fitting model: KNeighborsDist ...\n",
      "\t-7.203\t = Validation score   (-root_mean_squared_error)\n",
      "\t0.02s\t = Training   runtime\n",
      "\t0.11s\t = Validation runtime\n",
      "Fitting model: LightGBMXT ...\n",
      "\t-3.4303\t = Validation score   (-root_mean_squared_error)\n",
      "\t0.36s\t = Training   runtime\n",
      "\t0.0s\t = Validation runtime\n",
      "Fitting model: LightGBM ...\n",
      "\t-3.245\t = Validation score   (-root_mean_squared_error)\n",
      "\t0.34s\t = Training   runtime\n",
      "\t0.0s\t = Validation runtime\n",
      "Fitting model: RandomForestMSE ...\n",
      "\t-3.4213\t = Validation score   (-root_mean_squared_error)\n",
      "\t14.15s\t = Training   runtime\n",
      "\t0.06s\t = Validation runtime\n",
      "Fitting model: CatBoost ...\n",
      "\t-3.2467\t = Validation score   (-root_mean_squared_error)\n",
      "\t26.31s\t = Training   runtime\n",
      "\t0.0s\t = Validation runtime\n",
      "Fitting model: ExtraTreesMSE ...\n",
      "\t-2.9673\t = Validation score   (-root_mean_squared_error)\n",
      "\t4.15s\t = Training   runtime\n",
      "\t0.06s\t = Validation runtime\n",
      "Fitting model: NeuralNetFastAI ...\n",
      "\t-3.3003\t = Validation score   (-root_mean_squared_error)\n",
      "\t25.4s\t = Training   runtime\n",
      "\t0.03s\t = Validation runtime\n",
      "Fitting model: XGBoost ...\n",
      "\t-3.2111\t = Validation score   (-root_mean_squared_error)\n",
      "\t0.41s\t = Training   runtime\n",
      "\t0.01s\t = Validation runtime\n",
      "Fitting model: NeuralNetTorch ...\n",
      "\t-5.6494\t = Validation score   (-root_mean_squared_error)\n",
      "\t10.43s\t = Training   runtime\n",
      "\t0.02s\t = Validation runtime\n",
      "Fitting model: LightGBMLarge ...\n",
      "\t-3.3387\t = Validation score   (-root_mean_squared_error)\n",
      "\t1.72s\t = Training   runtime\n",
      "\t0.02s\t = Validation runtime\n",
      "Fitting model: WeightedEnsemble_L2 ...\n",
      "\t-2.7664\t = Validation score   (-root_mean_squared_error)\n",
      "\t0.25s\t = Training   runtime\n",
      "\t0.0s\t = Validation runtime\n",
      "AutoGluon training complete, total runtime = 92.42s ... Best model: \"WeightedEnsemble_L2\"\n",
      "TabularPredictor saved. To load, use: predictor = TabularPredictor.load(\"model/\")\n"
     ]
    },
    {
     "data": {
      "text/plain": [
       "<autogluon.tabular.predictor.predictor.TabularPredictor at 0x7fd40e720cd0>"
      ]
     },
     "execution_count": 9,
     "metadata": {},
     "output_type": "execute_result"
    }
   ],
   "source": [
    "predictor.fit(train_data)\n",
    "\n",
    "# AutoGluon infers your prediction problem is: 'regression' (because dtype of label-column == float and label-values can't be converted to int).\n",
    "# Label info (max, min, mean, stddev): (819.5, -7.0, 13.23572, 11.96267)\n",
    "\n",
    "# AutoGluon training complete, total runtime = 89.72s ... Best model: \"WeightedEnsemble_L2\""
   ]
  },
  {
   "cell_type": "code",
   "execution_count": 10,
   "id": "979195fc",
   "metadata": {
    "collapsed": true
   },
   "outputs": [
    {
     "name": "stdout",
     "output_type": "stream",
     "text": [
      "                  model  score_val  pred_time_val   fit_time  pred_time_val_marginal  fit_time_marginal  stack_level  can_infer  fit_order\n",
      "0   WeightedEnsemble_L2  -2.766400       0.244695  56.528128                0.000308           0.246437            2       True         12\n",
      "1         ExtraTreesMSE  -2.967295       0.060220   4.152885                0.060220           4.152885            1       True          7\n",
      "2               XGBoost  -3.211102       0.005235   0.405672                0.005235           0.405672            1       True          9\n",
      "3              LightGBM  -3.245028       0.003292   0.341916                0.003292           0.341916            1       True          4\n",
      "4              CatBoost  -3.246665       0.004185  26.307805                0.004185          26.307805            1       True          6\n",
      "5       NeuralNetFastAI  -3.300341       0.031887  25.395540                0.031887          25.395540            1       True          8\n",
      "6         LightGBMLarge  -3.338691       0.024750   1.717049                0.024750           1.717049            1       True         11\n",
      "7       RandomForestMSE  -3.421289       0.059909  14.147954                0.059909          14.147954            1       True          5\n",
      "8            LightGBMXT  -3.430323       0.003857   0.359552                0.003857           0.359552            1       True          3\n",
      "9        NeuralNetTorch  -5.649417       0.020283  10.426494                0.020283          10.426494            1       True         10\n",
      "10       KNeighborsUnif  -6.159739       0.142860   0.019789                0.142860           0.019789            1       True          1\n",
      "11       KNeighborsDist  -7.202982       0.113172   0.018064                0.113172           0.018064            1       True          2\n"
     ]
    },
    {
     "data": {
      "image/png": "[encoded data removed]",
      "text/plain": [
       "<Figure size 800x700 with 1 Axes>"
      ]
     },
     "metadata": {},
     "output_type": "display_data"
    }
   ],
   "source": [
    "leaderboard=pd.DataFrame(predictor.leaderboard())\n",
    "\n",
    "plt.figure(figsize=(8, 7))\n",
    "\n",
    "sns.set(style='darkgrid')\n",
    "\n",
    "sns.scatterplot(\n",
    "    x='pred_time_val',\n",
    "    y='score_val',\n",
    "    data=leaderboard,\n",
    "    s=300,\n",
    "    alpha=0.5,\n",
    "    hue='model',\n",
    "    palette='tab20',\n",
    "    style='fit_time'\n",
    ")\n",
    "\n",
    "plt.title('Prediction Time vs Accuracy Score')\n",
    "plt.xlabel('Average Time for Predictions')\n",
    "plt.ylabel('Validation Score (-RMSE)')\n",
    "plt.legend(bbox_to_anchor=(1.01,1.01))\n",
    "\n",
    "plt.savefig('assets/AutoML_with_AutoGluon_01.webp', bbox_inches='tight')"
   ]
  },
  {
   "cell_type": "markdown",
   "id": "4449e458",
   "metadata": {},
   "source": [
    "![AutoML with AutoGluon for Tabular Data](./assets/AutoML_with_AutoGluon_01.webp)"
   ]
  },
  {
   "cell_type": "markdown",
   "id": "01e305d4",
   "metadata": {},
   "source": [
    "#### Model Loading"
   ]
  },
  {
   "cell_type": "code",
   "execution_count": 11,
   "id": "12bafcd7",
   "metadata": {},
   "outputs": [],
   "source": [
    "# load best model\n",
    "predictor = TabularPredictor.load(\"model/\")"
   ]
  },
  {
   "cell_type": "markdown",
   "id": "f80d8373",
   "metadata": {},
   "source": [
    "#### Model Testing Model Testing"
   ]
  },
  {
   "cell_type": "code",
   "execution_count": 12,
   "id": "0c18bf1d",
   "metadata": {},
   "outputs": [],
   "source": [
    "X_test = test_data.drop(columns=['fare_amount'] )\n",
    "y_test = test_data['fare_amount']"
   ]
  },
  {
   "cell_type": "code",
   "execution_count": 13,
   "id": "d4d91db9",
   "metadata": {},
   "outputs": [],
   "source": [
    "y_pred = predictor.predict(X_test)"
   ]
  },
  {
   "cell_type": "code",
   "execution_count": 14,
   "id": "d83d179e",
   "metadata": {
    "collapsed": true
   },
   "outputs": [
    {
     "name": "stderr",
     "output_type": "stream",
     "text": [
      "Evaluation: root_mean_squared_error on test data: -3.869480242991944\n",
      "\tNote: Scores are always higher_is_better. This metric score can be multiplied by -1 to get the metric value.\n",
      "Evaluations on test data:\n",
      "{\n",
      "    \"root_mean_squared_error\": -3.869480242991944,\n",
      "    \"mean_squared_error\": -14.972877350904996,\n",
      "    \"mean_absolute_error\": -1.0180752170777319,\n",
      "    \"r2\": 0.9064725385773538,\n",
      "    \"pearsonr\": 0.9573261149692431,\n",
      "    \"median_absolute_error\": -0.5932259559631348\n",
      "}\n"
     ]
    }
   ],
   "source": [
    "eval_metrics = predictor.evaluate_predictions(y_true=y_test, y_pred=y_pred, auxiliary_metrics=True)"
   ]
  },
  {
   "cell_type": "code",
   "execution_count": 15,
   "id": "52f730b9",
   "metadata": {
    "collapsed": true
   },
   "outputs": [
    {
     "data": {
      "image/png": "[encoded data removed]",
      "text/plain": [
       "<Figure size 1500x500 with 1 Axes>"
      ]
     },
     "metadata": {},
     "output_type": "display_data"
    }
   ],
   "source": [
    "array = np.array(list(eval_metrics.items()))\n",
    "df = pd.DataFrame(array, columns = ['metric','value']).sort_values(by='value')\n",
    "\n",
    "plt.figure(figsize=(15,5))\n",
    "plt.bar(df['metric'], df['value'])\n",
    "plt.title('Evaluation Metrics')\n",
    "\n",
    "plt.savefig('assets/AutoML_with_AutoGluon_02.webp', bbox_inches='tight')"
   ]
  },
  {
   "cell_type": "markdown",
   "id": "31253ee6",
   "metadata": {},
   "source": [
    "![AutoML with AutoGluon for Tabular Data](./assets/AutoML_with_AutoGluon_02.webp)"
   ]
  },
  {
   "cell_type": "markdown",
   "id": "c2dab3f5",
   "metadata": {},
   "source": [
    "#### Feature Interpretability"
   ]
  },
  {
   "cell_type": "code",
   "execution_count": 43,
   "id": "9c1b5823",
   "metadata": {},
   "outputs": [
    {
     "name": "stderr",
     "output_type": "stream",
     "text": [
      "Computing feature importance via permutation shuffling for 17 features using 5000 rows with 5 shuffle sets...\n",
      "\t71.44s\t= Expected runtime (14.29s per shuffle set)\n",
      "\t28.98s\t= Actual runtime (Completed 5 of 5 shuffle sets)\n"
     ]
    }
   ],
   "source": [
    "# add test dataset that must include the classifier (fare_amount):\n",
    "importance_df = predictor.feature_importance(test_data).reset_index()"
   ]
  },
  {
   "cell_type": "code",
   "execution_count": 44,
   "id": "617152d6",
   "metadata": {
    "collapsed": true
   },
   "outputs": [
    {
     "data": {
      "image/png": "[encoded data removed]",
      "text/plain": [
       "<Figure size 800x800 with 1 Axes>"
      ]
     },
     "metadata": {},
     "output_type": "display_data"
    }
   ],
   "source": [
    "plt.figure(figsize=(8,8))\n",
    "plt.title('Feature Importance')\n",
    "sns.set(style='darkgrid')\n",
    "sns.barplot(\n",
    "    data=importance_df,\n",
    "    y='index',\n",
    "    x='importance',\n",
    "    orient='horizontal'\n",
    ").set_ylabel('Feature')\n",
    "\n",
    "plt.savefig('assets/AutoML_with_AutoGluon_03.webp', bbox_inches='tight')"
   ]
  },
  {
   "cell_type": "markdown",
   "id": "fcd86348",
   "metadata": {},
   "source": [
    "![AutoML with AutoGluon for Tabular Data](./assets/AutoML_with_AutoGluon_03.webp)"
   ]
  },
  {
   "cell_type": "markdown",
   "id": "05ae44e0",
   "metadata": {},
   "source": [
    "#### Running Predictions"
   ]
  },
  {
   "cell_type": "code",
   "execution_count": 47,
   "id": "0dbeebdd",
   "metadata": {},
   "outputs": [],
   "source": [
    "test_drive = {\n",
    "  \"VendorID\": 2,\n",
    "  \"tpep_pickup_datetime\": \"2016-03-01 01:12:39\",\n",
    "  \"tpep_dropoff_datetime\": \"2016-03-01 01:16:48\",\n",
    "  \"passenger_count\": 5,\n",
    "  \"trip_distance\": 1.28,\n",
    "  \"pickup_longitude\": -73.97952270507811,\n",
    "  \"pickup_latitude\": 40.76089096069336,\n",
    "  \"RatecodeID\": 1,\n",
    "  \"store_and_fwd_flag\": \"N\",\n",
    "  \"dropoff_longitude\": -73.99040985107422,\n",
    "  \"dropoff_latitude\": 40.77185821533203,\n",
    "  \"payment_type\": 1,\n",
    "  \"fare_amount\": 5.5,\n",
    "  \"extra\": 0.5,\n",
    "  \"mta_tax\": 0.5,\n",
    "  \"tip_amount\": 0.0,\n",
    "  \"tolls_amount\": 0.0,\n",
    "  \"improvement_surcharge\": 0.3,\n",
    "  \"total_amount\": 6.8\n",
    "}"
   ]
  },
  {
   "cell_type": "code",
   "execution_count": 49,
   "id": "0eb851b3",
   "metadata": {},
   "outputs": [
    {
     "name": "stderr",
     "output_type": "stream",
     "text": [
      "Loaded data from: dataset/test_data.csv | Columns = 19 / 19 | Rows = 1 -> 1\n"
     ]
    }
   ],
   "source": [
    "# load booking into dataset\n",
    "test_drive_df = TabularDataset.from_dict([test_drive])\n",
    "test_drive_from_csv_df = TabularDataset('dataset/test_data.csv')"
   ]
  },
  {
   "cell_type": "code",
   "execution_count": 50,
   "id": "428bb709",
   "metadata": {},
   "outputs": [
    {
     "data": {
      "text/plain": [
       "0    6.403378\n",
       "Name: fare_amount, dtype: float32"
      ]
     },
     "execution_count": 50,
     "metadata": {},
     "output_type": "execute_result"
    }
   ],
   "source": [
    "predictor.predict(test_drive_df)\n",
    "# 0    6.403378\n",
    "# Name: fare_amount, dtype: float32"
   ]
  },
  {
   "cell_type": "code",
   "execution_count": 51,
   "id": "44e9be84",
   "metadata": {},
   "outputs": [
    {
     "data": {
      "text/plain": [
       "0    20.392935\n",
       "Name: fare_amount, dtype: float32"
      ]
     },
     "execution_count": 51,
     "metadata": {},
     "output_type": "execute_result"
    }
   ],
   "source": [
    "predictor.predict(test_drive_from_csv_df)\n",
    "# 0    20.392935\n",
    "# Name: fare_amount, dtype: float32"
   ]
  },
  {
   "cell_type": "markdown",
   "id": "455f7af8",
   "metadata": {},
   "source": [
    "### Customizations"
   ]
  },
  {
   "cell_type": "code",
   "execution_count": 16,
   "id": "7c8aa1e7",
   "metadata": {
    "collapsed": true
   },
   "outputs": [
    {
     "name": "stdout",
     "output_type": "stream",
     "text": [
      "                  model  score_test  score_val  pred_time_test  pred_time_val   fit_time  pred_time_test_marginal  pred_time_val_marginal  fit_time_marginal  stack_level  can_infer  fit_order\n",
      "0         ExtraTreesMSE   -3.424482  -2.967295        0.336113       0.060220   4.152885                 0.336113                0.060220           4.152885            1       True          7\n",
      "1       RandomForestMSE   -3.496445  -3.421289        0.635791       0.059909  14.147954                 0.635791                0.059909          14.147954            1       True          5\n",
      "2         LightGBMLarge   -3.711858  -3.338691        0.114917       0.024750   1.717049                 0.114917                0.024750           1.717049            1       True         11\n",
      "3   WeightedEnsemble_L2   -3.869480  -2.766400        0.870554       0.244695  56.528128                 0.003921                0.000308           0.246437            2       True         12\n",
      "4              CatBoost   -3.875734  -3.246665        0.012133       0.004185  26.307805                 0.012133                0.004185          26.307805            1       True          6\n",
      "5               XGBoost   -4.003582  -3.211102        0.026592       0.005235   0.405672                 0.026592                0.005235           0.405672            1       True          9\n",
      "6              LightGBM   -4.547570  -3.245028        0.013185       0.003292   0.341916                 0.013185                0.003292           0.341916            1       True          4\n",
      "7       NeuralNetFastAI   -4.767402  -3.300341        0.160983       0.031887  25.395540                 0.160983                0.031887          25.395540            1       True          8\n",
      "8            LightGBMXT   -5.297554  -3.430323        0.016557       0.003857   0.359552                 0.016557                0.003857           0.359552            1       True          3\n",
      "9        NeuralNetTorch   -7.383115  -5.649417        0.050529       0.020283  10.426494                 0.050529                0.020283          10.426494            1       True         10\n",
      "10       KNeighborsUnif   -7.793495  -6.159739        0.330812       0.142860   0.019789                 0.330812                0.142860           0.019789            1       True          1\n",
      "11       KNeighborsDist   -8.238958  -7.202982        0.276046       0.113172   0.018064                 0.276046                0.113172           0.018064            1       True          2\n"
     ]
    }
   ],
   "source": [
    "leaderboard_results = predictor.leaderboard(test_data)"
   ]
  },
  {
   "cell_type": "code",
   "execution_count": 18,
   "id": "f5d00859",
   "metadata": {
    "collapsed": true
   },
   "outputs": [
    {
     "data": {
      "text/html": [
       "<div>\n",
       "<style scoped>\n",
       "    .dataframe tbody tr th:only-of-type {\n",
       "        vertical-align: middle;\n",
       "    }\n",
       "\n",
       "    .dataframe tbody tr th {\n",
       "        vertical-align: top;\n",
       "    }\n",
       "\n",
       "    .dataframe thead th {\n",
       "        text-align: right;\n",
       "    }\n",
       "</style>\n",
       "<table border=\"1\" class=\"dataframe\">\n",
       "  <thead>\n",
       "    <tr style=\"text-align: right;\">\n",
       "      <th></th>\n",
       "      <th>model</th>\n",
       "      <th>score_test</th>\n",
       "      <th>score_val</th>\n",
       "      <th>pred_time_test</th>\n",
       "      <th>fit_time</th>\n",
       "    </tr>\n",
       "  </thead>\n",
       "  <tbody>\n",
       "    <tr>\n",
       "      <th>0</th>\n",
       "      <td>ExtraTreesMSE</td>\n",
       "      <td>-3.424482</td>\n",
       "      <td>-2.967295</td>\n",
       "      <td>0.336113</td>\n",
       "      <td>4.152885</td>\n",
       "    </tr>\n",
       "    <tr>\n",
       "      <th>1</th>\n",
       "      <td>RandomForestMSE</td>\n",
       "      <td>-3.496445</td>\n",
       "      <td>-3.421289</td>\n",
       "      <td>0.635791</td>\n",
       "      <td>14.147954</td>\n",
       "    </tr>\n",
       "    <tr>\n",
       "      <th>2</th>\n",
       "      <td>LightGBMLarge</td>\n",
       "      <td>-3.711858</td>\n",
       "      <td>-3.338691</td>\n",
       "      <td>0.114917</td>\n",
       "      <td>1.717049</td>\n",
       "    </tr>\n",
       "    <tr>\n",
       "      <th>3</th>\n",
       "      <td>WeightedEnsemble_L2</td>\n",
       "      <td>-3.869480</td>\n",
       "      <td>-2.766400</td>\n",
       "      <td>0.870554</td>\n",
       "      <td>56.528128</td>\n",
       "    </tr>\n",
       "    <tr>\n",
       "      <th>4</th>\n",
       "      <td>CatBoost</td>\n",
       "      <td>-3.875734</td>\n",
       "      <td>-3.246665</td>\n",
       "      <td>0.012133</td>\n",
       "      <td>26.307805</td>\n",
       "    </tr>\n",
       "    <tr>\n",
       "      <th>5</th>\n",
       "      <td>XGBoost</td>\n",
       "      <td>-4.003582</td>\n",
       "      <td>-3.211102</td>\n",
       "      <td>0.026592</td>\n",
       "      <td>0.405672</td>\n",
       "    </tr>\n",
       "    <tr>\n",
       "      <th>6</th>\n",
       "      <td>LightGBM</td>\n",
       "      <td>-4.547570</td>\n",
       "      <td>-3.245028</td>\n",
       "      <td>0.013185</td>\n",
       "      <td>0.341916</td>\n",
       "    </tr>\n",
       "    <tr>\n",
       "      <th>7</th>\n",
       "      <td>NeuralNetFastAI</td>\n",
       "      <td>-4.767402</td>\n",
       "      <td>-3.300341</td>\n",
       "      <td>0.160983</td>\n",
       "      <td>25.395540</td>\n",
       "    </tr>\n",
       "    <tr>\n",
       "      <th>8</th>\n",
       "      <td>LightGBMXT</td>\n",
       "      <td>-5.297554</td>\n",
       "      <td>-3.430323</td>\n",
       "      <td>0.016557</td>\n",
       "      <td>0.359552</td>\n",
       "    </tr>\n",
       "    <tr>\n",
       "      <th>9</th>\n",
       "      <td>NeuralNetTorch</td>\n",
       "      <td>-7.383115</td>\n",
       "      <td>-5.649417</td>\n",
       "      <td>0.050529</td>\n",
       "      <td>10.426494</td>\n",
       "    </tr>\n",
       "    <tr>\n",
       "      <th>10</th>\n",
       "      <td>KNeighborsUnif</td>\n",
       "      <td>-7.793495</td>\n",
       "      <td>-6.159739</td>\n",
       "      <td>0.330812</td>\n",
       "      <td>0.019789</td>\n",
       "    </tr>\n",
       "    <tr>\n",
       "      <th>11</th>\n",
       "      <td>KNeighborsDist</td>\n",
       "      <td>-8.238958</td>\n",
       "      <td>-7.202982</td>\n",
       "      <td>0.276046</td>\n",
       "      <td>0.018064</td>\n",
       "    </tr>\n",
       "  </tbody>\n",
       "</table>\n",
       "</div>"
      ],
      "text/plain": [
       "                  model  score_test  score_val  pred_time_test   fit_time\n",
       "0         ExtraTreesMSE   -3.424482  -2.967295        0.336113   4.152885\n",
       "1       RandomForestMSE   -3.496445  -3.421289        0.635791  14.147954\n",
       "2         LightGBMLarge   -3.711858  -3.338691        0.114917   1.717049\n",
       "3   WeightedEnsemble_L2   -3.869480  -2.766400        0.870554  56.528128\n",
       "4              CatBoost   -3.875734  -3.246665        0.012133  26.307805\n",
       "5               XGBoost   -4.003582  -3.211102        0.026592   0.405672\n",
       "6              LightGBM   -4.547570  -3.245028        0.013185   0.341916\n",
       "7       NeuralNetFastAI   -4.767402  -3.300341        0.160983  25.395540\n",
       "8            LightGBMXT   -5.297554  -3.430323        0.016557   0.359552\n",
       "9        NeuralNetTorch   -7.383115  -5.649417        0.050529  10.426494\n",
       "10       KNeighborsUnif   -7.793495  -6.159739        0.330812   0.019789\n",
       "11       KNeighborsDist   -8.238958  -7.202982        0.276046   0.018064"
      ]
     },
     "execution_count": 18,
     "metadata": {},
     "output_type": "execute_result"
    }
   ],
   "source": [
    "results_df = leaderboard_results[['model', 'score_test', 'score_val', 'pred_time_test', 'fit_time']]\n",
    "results_df"
   ]
  },
  {
   "cell_type": "markdown",
   "id": "fc9be05b",
   "metadata": {},
   "source": [
    "|  | model | score_test | score_val | pred_time_test | fit_time |\n",
    "| -- | -- | -- | -- | -- | -- |\n",
    "| 0 | ExtraTreesMSE | -3.424482 | -2.967295 | 0.336113 | 4.152885 |\n",
    "| 1 | RandomForestMSE | -3.496445 | -3.421289 | 0.635791 | 14.147954 |\n",
    "| 2 | LightGBMLarge | -3.711858 | -3.338691 | 0.114917 | 1.717049 |\n",
    "| 3 | WeightedEnsemble_L2 | -3.869480 | -2.766400 | 0.870554 | 56.528128 |\n",
    "| 4 | CatBoost | -3.875734 | -3.246665 | 0.012133 | 26.307805 |\n",
    "| 5 | XGBoost | -4.003582 | -3.211102 | 0.026592 | 0.405672 |\n",
    "| 6 | LightGBM | -4.547570 | -3.245028 | 0.013185 | 0.341916 |\n",
    "| 7 | NeuralNetFastAI | -4.767402 | -3.300341 | 0.160983 | 25.395540 |\n",
    "| 8 | LightGBMXT | -5.297554 | -3.430323 | 0.016557 | 0.359552 |\n",
    "| 9 | NeuralNetTorch | -7.383115 | -5.649417 | 0.050529 | 10.426494 |\n",
    "| 10 | KNeighborsUnif | -7.793495 | -6.159739 | 0.330812 | 0.019789 |\n",
    "| 11 | KNeighborsDist | -8.238958 | -7.202982 | 0.276046 | 0.018064 |"
   ]
  },
  {
   "cell_type": "markdown",
   "id": "26f4cdde",
   "metadata": {},
   "source": [
    "#### Inference Constraints\n",
    "\n",
    "The `WeightedEnsemble_L2` model - which is an ensemble of different models used by AutoGluon - has the highest test accuracy but also takes by far the longest to return predictions. The 'non-ensembled' model `ExtraTreesMSE` is not that far off when it comes to accuracy but more than twice as fast with predictions. We can set a restraint how much time is acceptable to remove 'slow' models from the created weighted ensemble model."
   ]
  },
  {
   "cell_type": "code",
   "execution_count": 59,
   "id": "0c330ada",
   "metadata": {
    "collapsed": true
   },
   "outputs": [
    {
     "name": "stderr",
     "output_type": "stream",
     "text": [
      "Warning: path already exists! This predictor may overwrite an existing predictor! path=\"model_fast\"\n",
      "Beginning AutoGluon training ... Time limit = 30s\n",
      "AutoGluon will save models to \"model_fast/\"\n",
      "AutoGluon Version:  0.8.0\n",
      "Python Version:     3.10.10\n",
      "Operating System:   Linux\n",
      "Platform Machine:   x86_64\n",
      "Platform Version:   #1 SMP PREEMPT_DYNAMIC Tue May 30 23:14:35 UTC 2023\n",
      "Disk Space Avail:   63.52 GB / 500.10 GB (12.7%)\n",
      "Train Data Rows:    40000\n",
      "Train Data Columns: 17\n",
      "Label Column: fare_amount\n",
      "Preprocessing data ...\n",
      "AutoGluon infers your prediction problem is: 'regression' (because dtype of label-column == float and label-values can't be converted to int).\n",
      "\tLabel info (max, min, mean, stddev): (819.5, -7.0, 13.23572, 11.96267)\n",
      "\tIf 'regression' is not the correct problem_type, please manually specify the problem_type parameter during predictor init (You may specify problem_type as one of: ['binary', 'multiclass', 'regression'])\n",
      "Using Feature Generators to preprocess the data ...\n",
      "Fitting AutoMLPipelineFeatureGenerator...\n",
      "\tAvailable Memory:                    21593.18 MB\n",
      "\tTrain Data (Original)  Memory Usage: 12.88 MB (0.1% of available memory)\n",
      "\tInferring data type of each feature based on column values. Set feature_metadata_in to manually specify special dtypes of the features.\n",
      "\tStage 1 Generators:\n",
      "\t\tFitting AsTypeFeatureGenerator...\n",
      "\t\t\tNote: Converting 2 features to boolean dtype as they only contain 2 unique values.\n",
      "\tStage 2 Generators:\n",
      "\t\tFitting FillNaFeatureGenerator...\n",
      "\tStage 3 Generators:\n",
      "\t\tFitting IdentityFeatureGenerator...\n",
      "\t\tFitting DatetimeFeatureGenerator...\n",
      "\tStage 4 Generators:\n",
      "\t\tFitting DropUniqueFeatureGenerator...\n",
      "\tStage 5 Generators:\n",
      "\t\tFitting DropDuplicatesFeatureGenerator...\n",
      "\tTypes of features in original data (raw dtype, special dtypes):\n",
      "\t\t('float', [])                      : 10 | ['trip_distance', 'pickup_longitude', 'pickup_latitude', 'dropoff_longitude', 'dropoff_latitude', ...]\n",
      "\t\t('int', [])                        :  4 | ['VendorID', 'passenger_count', 'RatecodeID', 'payment_type']\n",
      "\t\t('object', [])                     :  1 | ['store_and_fwd_flag']\n",
      "\t\t('object', ['datetime_as_object']) :  2 | ['tpep_pickup_datetime', 'tpep_dropoff_datetime']\n",
      "\tTypes of features in processed data (raw dtype, special dtypes):\n",
      "\t\t('float', [])                : 10 | ['trip_distance', 'pickup_longitude', 'pickup_latitude', 'dropoff_longitude', 'dropoff_latitude', ...]\n",
      "\t\t('int', [])                  :  3 | ['passenger_count', 'RatecodeID', 'payment_type']\n",
      "\t\t('int', ['bool'])            :  2 | ['VendorID', 'store_and_fwd_flag']\n",
      "\t\t('int', ['datetime_as_int']) :  6 | ['tpep_pickup_datetime', 'tpep_pickup_datetime.day', 'tpep_pickup_datetime.dayofweek', 'tpep_dropoff_datetime', 'tpep_dropoff_datetime.day', ...]\n",
      "\t0.3s = Fit runtime\n",
      "\t17 features in original data used to generate 21 features in processed data.\n",
      "\tTrain Data (Processed) Memory Usage: 6.16 MB (0.0% of available memory)\n",
      "\t2.262μs\t= Feature Preprocessing Time (1 row | 10000 batch size)\n",
      "\t\tFeature Preprocessing requires 56.55% of the overall inference constraint (4.0μs)\n",
      "\t\t1.738μs inference time budget remaining for models...\n",
      "Data preprocessing and feature engineering runtime = 0.37s ...\n",
      "AutoGluon will gauge predictive performance using evaluation metric: 'root_mean_squared_error'\n",
      "\tThis metric's sign has been flipped to adhere to being higher_is_better. The metric score can be multiplied by -1 to get the metric value.\n",
      "\tTo change this, specify the eval_metric parameter of Predictor()\n",
      "Automatically generating train/validation split with holdout_frac=0.0625, Train Rows: 37500, Val Rows: 2500\n",
      "User-specified model hyperparameters to be fit:\n",
      "{\n",
      "\t'NN_TORCH': {},\n",
      "\t'GBM': [{'extra_trees': True, 'ag_args': {'name_suffix': 'XT'}}, {}, 'GBMLarge'],\n",
      "\t'CAT': {},\n",
      "\t'XGB': {},\n",
      "\t'FASTAI': {},\n",
      "\t'RF': [{'criterion': 'gini', 'ag_args': {'name_suffix': 'Gini', 'problem_types': ['binary', 'multiclass']}}, {'criterion': 'entropy', 'ag_args': {'name_suffix': 'Entr', 'problem_types': ['binary', 'multiclass']}}, {'criterion': 'squared_error', 'ag_args': {'name_suffix': 'MSE', 'problem_types': ['regression', 'quantile']}}],\n",
      "\t'XT': [{'criterion': 'gini', 'ag_args': {'name_suffix': 'Gini', 'problem_types': ['binary', 'multiclass']}}, {'criterion': 'entropy', 'ag_args': {'name_suffix': 'Entr', 'problem_types': ['binary', 'multiclass']}}, {'criterion': 'squared_error', 'ag_args': {'name_suffix': 'MSE', 'problem_types': ['regression', 'quantile']}}],\n",
      "\t'KNN': [{'weights': 'uniform', 'ag_args': {'name_suffix': 'Unif'}}, {'weights': 'distance', 'ag_args': {'name_suffix': 'Dist'}}],\n",
      "}\n",
      "Fitting 11 L1 models ...\n",
      "Fitting model: KNeighborsUnif ... Training model for up to 29.63s of the 29.63s of remaining time.\n",
      "\t-6.1597\t = Validation score   (-root_mean_squared_error)\n",
      "\t0.37s\t = Training   runtime\n",
      "\t0.13s\t = Validation runtime\n",
      "\t0.034ms\t = Validation runtime (1 row | 10000 batch size | MARGINAL)\n",
      "\t0.034ms\t = Validation runtime (1 row | 10000 batch size)\n",
      "Fitting model: KNeighborsDist ... Training model for up to 29.1s of the 29.1s of remaining time.\n",
      "\t-7.203\t = Validation score   (-root_mean_squared_error)\n",
      "\t0.39s\t = Training   runtime\n",
      "\t0.12s\t = Validation runtime\n",
      "\t0.036ms\t = Validation runtime (1 row | 10000 batch size | MARGINAL)\n",
      "\t0.036ms\t = Validation runtime (1 row | 10000 batch size)\n",
      "Fitting model: LightGBMXT ... Training model for up to 28.56s of the 28.56s of remaining time.\n",
      "\t-3.4303\t = Validation score   (-root_mean_squared_error)\n",
      "\t0.67s\t = Training   runtime\n",
      "\t0.0s\t = Validation runtime\n",
      "\t1.449μs\t = Validation runtime (1 row | 10000 batch size | MARGINAL)\n",
      "\t1.449μs\t = Validation runtime (1 row | 10000 batch size)\n",
      "Fitting model: LightGBM ... Training model for up to 27.87s of the 27.87s of remaining time.\n",
      "\t-3.245\t = Validation score   (-root_mean_squared_error)\n",
      "\t0.59s\t = Training   runtime\n",
      "\t0.0s\t = Validation runtime\n",
      "\t1.177μs\t = Validation runtime (1 row | 10000 batch size | MARGINAL)\n",
      "\t1.177μs\t = Validation runtime (1 row | 10000 batch size)\n",
      "Fitting model: RandomForestMSE ... Training model for up to 27.27s of the 27.27s of remaining time.\n",
      "\t-3.4213\t = Validation score   (-root_mean_squared_error)\n",
      "\t15.41s\t = Training   runtime\n",
      "\t0.07s\t = Validation runtime\n",
      "\t0.018ms\t = Validation runtime (1 row | 10000 batch size | MARGINAL)\n",
      "\t0.018ms\t = Validation runtime (1 row | 10000 batch size)\n",
      "Fitting model: CatBoost ... Training model for up to 8.12s of the 8.12s of remaining time.\n",
      "\tRan out of time, early stopping on iteration 2126.\n",
      "\t-3.2669\t = Validation score   (-root_mean_squared_error)\n",
      "\t8.21s\t = Training   runtime\n",
      "\t0.0s\t = Validation runtime\n",
      "\t0.694μs\t = Validation runtime (1 row | 10000 batch size | MARGINAL)\n",
      "\t0.694μs\t = Validation runtime (1 row | 10000 batch size)\n",
      "Removing 5/6 base models to satisfy inference constraint (constraint=1.651μs) ...\n",
      "\t0.092ms\t-> 0.058ms\t(KNeighborsUnif)\n",
      "\t0.058ms\t-> 0.022ms\t(KNeighborsDist)\n",
      "\t0.022ms\t-> 3.321μs\t(RandomForestMSE)\n",
      "\t3.321μs\t-> 1.871μs\t(LightGBMXT)\n",
      "\t1.871μs\t-> 1.177μs\t(CatBoost)\n",
      "Fitting model: WeightedEnsemble_L2 ... Training model for up to 29.63s of the -0.12s of remaining time.\n",
      "\t-3.245\t = Validation score   (-root_mean_squared_error)\n",
      "\t0.01s\t = Training   runtime\n",
      "\t0.0s\t = Validation runtime\n",
      "\t0.037μs\t = Validation runtime (1 row | 10000 batch size | MARGINAL)\n",
      "\t1.214μs\t = Validation runtime (1 row | 10000 batch size)\n",
      "AutoGluon training complete, total runtime = 30.19s ... Best model: \"WeightedEnsemble_L2\"\n",
      "TabularPredictor saved. To load, use: predictor = TabularPredictor.load(\"model_fast/\")\n"
     ]
    },
    {
     "data": {
      "text/plain": [
       "<autogluon.tabular.predictor.predictor.TabularPredictor at 0x7fd34f114610>"
      ]
     },
     "execution_count": 59,
     "metadata": {},
     "output_type": "execute_result"
    }
   ],
   "source": [
    "fast_predictor = TabularPredictor(label='fare_amount', path='model_fast')\n",
    "fast_predictor.fit(train_data, time_limit=30, infer_limit=0.000004, infer_limit_batch_size=10000)\n",
    "\n",
    "# Removing 5/6 base models to satisfy inference constraint (constraint=1.651μs) ...\n",
    "# \t0.092ms\t-> 0.058ms\t(KNeighborsUnif)\n",
    "# \t0.058ms\t-> 0.022ms\t(KNeighborsDist)\n",
    "# \t0.022ms\t-> 3.321μs\t(RandomForestMSE)\n",
    "# \t3.321μs\t-> 1.871μs\t(LightGBMXT)\n",
    "# \t1.871μs\t-> 1.177μs\t(CatBoost)"
   ]
  },
  {
   "cell_type": "code",
   "execution_count": 63,
   "id": "98c0a4d4",
   "metadata": {
    "collapsed": true
   },
   "outputs": [
    {
     "name": "stdout",
     "output_type": "stream",
     "text": [
      "*** Summary of fit() ***\n",
      "Estimated performance of each model:\n",
      "                 model  score_val  pred_time_val   fit_time  pred_time_val_marginal  fit_time_marginal  stack_level  can_infer  fit_order\n",
      "0             LightGBM  -3.245028       0.003834   0.588395                0.003834           0.588395            1       True          4\n",
      "1  WeightedEnsemble_L2  -3.245028       0.004205   0.594806                0.000371           0.006411            2       True          7\n",
      "2             CatBoost  -3.266919       0.003005   8.212242                0.003005           8.212242            1       True          6\n",
      "3      RandomForestMSE  -3.421289       0.073429  15.412317                0.073429          15.412317            1       True          5\n",
      "4           LightGBMXT  -3.430323       0.004597   0.667201                0.004597           0.667201            1       True          3\n",
      "5       KNeighborsUnif  -6.159739       0.134967   0.365208                0.134967           0.365208            1       True          1\n",
      "6       KNeighborsDist  -7.202982       0.120473   0.394391                0.120473           0.394391            1       True          2\n",
      "Number of models trained: 7\n",
      "Types of models trained:\n",
      "{'RFModel', 'WeightedEnsembleModel', 'LGBModel', 'KNNModel', 'CatBoostModel'}\n",
      "Bagging used: False \n",
      "Multi-layer stack-ensembling used: False \n",
      "Feature Metadata (Processed):\n",
      "(raw dtype, special dtypes):\n",
      "('float', [])                : 10 | ['trip_distance', 'pickup_longitude', 'pickup_latitude', 'dropoff_longitude', 'dropoff_latitude', ...]\n",
      "('int', [])                  :  3 | ['passenger_count', 'RatecodeID', 'payment_type']\n",
      "('int', ['bool'])            :  2 | ['VendorID', 'store_and_fwd_flag']\n",
      "('int', ['datetime_as_int']) :  6 | ['tpep_pickup_datetime', 'tpep_pickup_datetime.day', 'tpep_pickup_datetime.dayofweek', 'tpep_dropoff_datetime', 'tpep_dropoff_datetime.day', ...]\n",
      "*** End of fit() summary ***\n"
     ]
    },
    {
     "name": "stderr",
     "output_type": "stream",
     "text": [
      "/home/xiaodie/.local/lib/python3.10/site-packages/autogluon/core/utils/plots.py:138: UserWarning: AutoGluon summary plots cannot be created because bokeh is not installed. To see plots, please do: \"pip install bokeh==2.0.1\"\n",
      "  warnings.warn('AutoGluon summary plots cannot be created because bokeh is not installed. To see plots, please do: \"pip install bokeh==2.0.1\"')\n"
     ]
    }
   ],
   "source": [
    "eval_metrics_fast = fast_predictor.fit_summary()"
   ]
  },
  {
   "cell_type": "markdown",
   "id": "f4a119d7",
   "metadata": {},
   "source": [
    "|  | model | score_val | pred_time_val | fit_time | pred_time_val_marginal | fit_time_marginal | stack_level | can_infer | fit_order |\n",
    "| -- | -- | -- | -- | -- | -- | -- | -- | -- | -- |\n",
    "| 0 | LightGBM | -3.245028 | 0.003834 | 0.588395 | 0.003834 | 0.588395 | 1 | True | 4 |\n",
    "| 1 | WeightedEnsemble_L2 | -3.245028 | 0.004205 | 0.594806 | 0.000371 | 0.006411 | 2 | True | 7 |\n",
    "| 2 | CatBoost | -3.266919 | 0.003005 | 8.212242 | 0.003005 | 8.212242 | 1 | True | 6 |\n",
    "| 3 | RandomForestMSE | -3.421289 | 0.073429 | 15.412317 | 0.073429 | 15.412317 | 1 | True | 5 |\n",
    "| 4 | LightGBMXT | -3.430323 | 0.004597 | 0.667201 | 0.004597 | 0.667201 | 1 | True | 3 |\n",
    "| 5 | KNeighborsUnif | -6.159739 | 0.134967 | 0.365208 | 0.134967 | 0.365208 | 1 | True | 1 |\n",
    "| 6 | KNeighborsDist | -7.202982 | 0.120473 | 0.394391 | 0.120473 | 0.394391 | 1 | True | 2 |\n",
    "\n",
    "Number of models trained: 7\n",
    "Types of models trained:\n",
    "{'RFModel', 'WeightedEnsembleModel', 'LGBModel', 'KNNModel', 'CatBoostModel'}"
   ]
  },
  {
   "cell_type": "code",
   "execution_count": 65,
   "id": "ca7652d9",
   "metadata": {
    "collapsed": true
   },
   "outputs": [
    {
     "name": "stdout",
     "output_type": "stream",
     "text": [
      "*** Summary of fit() ***\n",
      "Estimated performance of each model:\n",
      "                  model  score_val  pred_time_val   fit_time  pred_time_val_marginal  fit_time_marginal  stack_level  can_infer  fit_order\n",
      "0   WeightedEnsemble_L2  -2.766400       0.244695  56.528128                0.000308           0.246437            2       True         12\n",
      "1         ExtraTreesMSE  -2.967295       0.060220   4.152885                0.060220           4.152885            1       True          7\n",
      "2               XGBoost  -3.211102       0.005235   0.405672                0.005235           0.405672            1       True          9\n",
      "3              LightGBM  -3.245028       0.003292   0.341916                0.003292           0.341916            1       True          4\n",
      "4              CatBoost  -3.246665       0.004185  26.307805                0.004185          26.307805            1       True          6\n",
      "5       NeuralNetFastAI  -3.300341       0.031887  25.395540                0.031887          25.395540            1       True          8\n",
      "6         LightGBMLarge  -3.338691       0.024750   1.717049                0.024750           1.717049            1       True         11\n",
      "7       RandomForestMSE  -3.421289       0.059909  14.147954                0.059909          14.147954            1       True          5\n",
      "8            LightGBMXT  -3.430323       0.003857   0.359552                0.003857           0.359552            1       True          3\n",
      "9        NeuralNetTorch  -5.649417       0.020283  10.426494                0.020283          10.426494            1       True         10\n",
      "10       KNeighborsUnif  -6.159739       0.142860   0.019789                0.142860           0.019789            1       True          1\n",
      "11       KNeighborsDist  -7.202982       0.113172   0.018064                0.113172           0.018064            1       True          2\n",
      "Number of models trained: 12\n",
      "Types of models trained:\n",
      "{'RFModel', 'XGBoostModel', 'WeightedEnsembleModel', 'XTModel', 'NNFastAiTabularModel', 'LGBModel', 'KNNModel', 'CatBoostModel', 'TabularNeuralNetTorchModel'}\n",
      "Bagging used: False \n",
      "Multi-layer stack-ensembling used: False \n",
      "Feature Metadata (Processed):\n",
      "(raw dtype, special dtypes):\n",
      "('float', [])                : 10 | ['trip_distance', 'pickup_longitude', 'pickup_latitude', 'dropoff_longitude', 'dropoff_latitude', ...]\n",
      "('int', [])                  :  3 | ['passenger_count', 'RatecodeID', 'payment_type']\n",
      "('int', ['bool'])            :  2 | ['VendorID', 'store_and_fwd_flag']\n",
      "('int', ['datetime_as_int']) :  6 | ['tpep_pickup_datetime', 'tpep_pickup_datetime.day', 'tpep_pickup_datetime.dayofweek', 'tpep_dropoff_datetime', 'tpep_dropoff_datetime.day', ...]\n",
      "*** End of fit() summary ***\n"
     ]
    },
    {
     "name": "stderr",
     "output_type": "stream",
     "text": [
      "/home/xiaodie/.local/lib/python3.10/site-packages/autogluon/core/utils/plots.py:138: UserWarning: AutoGluon summary plots cannot be created because bokeh is not installed. To see plots, please do: \"pip install bokeh==2.0.1\"\n",
      "  warnings.warn('AutoGluon summary plots cannot be created because bokeh is not installed. To see plots, please do: \"pip install bokeh==2.0.1\"')\n"
     ]
    }
   ],
   "source": [
    "eval_metrics = predictor.fit_summary()"
   ]
  },
  {
   "cell_type": "markdown",
   "id": "d2150b6d",
   "metadata": {},
   "source": [
    "|  | model | score_val | pred_time_val | fit_time | pred_time_val_marginal | fit_time_marginal | stack_level | can_infer | fit_order |\n",
    "| -- | -- | -- | -- | -- | -- | -- | -- | -- | -- |\n",
    "| 0 | WeightedEnsemble_L2 | -2.766400 | 0.244695 | 56.528128 | 0.000308 | 0.246437 | 2 | True | 12 |\n",
    "| 1 | ExtraTreesMSE | -2.967295 | 0.060220 | 4.152885 | 0.060220 | 4.152885 | 1 | True | 7 |\n",
    "| 2 | XGBoost | -3.211102 | 0.005235 | 0.405672 | 0.005235 | 0.405672 | 1 | True | 9 |\n",
    "| 3 | LightGBM | -3.245028 | 0.003292 | 0.341916 | 0.003292 | 0.341916 | 1 | True | 4 |\n",
    "| 4 | CatBoost | -3.246665 | 0.004185 | 26.307805 | 0.004185 | 26.307805 | 1 | True | 6 |\n",
    "| 5 | NeuralNetFastAI | -3.300341 | 0.031887 | 25.395540 | 0.031887 | 25.395540 | 1 | True | 8 |\n",
    "| 6 | LightGBMLarge | -3.338691 | 0.024750 | 1.717049 | 0.024750 | 1.717049 | 1 | True | 11 |\n",
    "| 7 | RandomForestMSE | -3.421289 | 0.059909 | 14.147954 | 0.059909 | 14.147954 | 1 | True | 5 |\n",
    "| 8 | LightGBMXT | -3.430323 | 0.003857 | 0.359552 | 0.003857 | 0.359552 | 1 | True | 3 |\n",
    "| 9 | NeuralNetTorch | -5.649417 | 0.020283 | 10.426494 | 0.020283 | 10.426494 | 1 | True | 10 |\n",
    "| 10 | KNeighborsUnif | -6.159739 | 0.142860 | 0.019789 | 0.142860 | 0.019789 | 1 | True | 1 |\n",
    "| 11 | KNeighborsDist | -7.202982 | 0.113172 | 0.018064 | 0.113172 | 0.018064 | 1 | True | 2 |\n",
    "\n",
    "Number of models trained: 12\n",
    "Types of models trained:\n",
    "{'RFModel', 'XGBoostModel', 'WeightedEnsembleModel', 'XTModel', 'NNFastAiTabularModel', 'LGBModel', 'KNNModel', 'CatBoostModel', 'TabularNeuralNetTorchModel'}"
   ]
  },
  {
   "cell_type": "markdown",
   "id": "35df48bc",
   "metadata": {},
   "source": [
    "Result: _Much faster but less accurate_\n",
    "\n",
    "* __WeightedEnsemble\\_L2__:\n",
    "  * score_val: `-2.766400` -> `-3.245028`\n",
    "  * pred_time_val: `0.244695s` -> `0.004205s`\n",
    "  * fit_time: `56.528128s` -> `0.594806s`"
   ]
  },
  {
   "cell_type": "markdown",
   "id": "723519ba",
   "metadata": {},
   "source": [
    "#### Hyperparameter Tuning"
   ]
  },
  {
   "cell_type": "code",
   "execution_count": 78,
   "id": "a6fd482d",
   "metadata": {},
   "outputs": [],
   "source": [
    "hyperparameters_NN_Torch = {\"num_epochs\": 1, \"learning_rate\": 0.5}\n",
    "hyperparameters_XGB = {} # use XGBoost with default values\n",
    "hyperparameters = {\"NN_TORCH\": hyperparameters_NN_Torch, \"XGB\": hyperparameters_XGB}"
   ]
  },
  {
   "cell_type": "code",
   "execution_count": 79,
   "id": "cee30019",
   "metadata": {
    "collapsed": true
   },
   "outputs": [
    {
     "name": "stderr",
     "output_type": "stream",
     "text": [
      "Warning: path already exists! This predictor may overwrite an existing predictor! path=\"model_tuned\"\n",
      "Beginning AutoGluon training ...\n",
      "AutoGluon will save models to \"model_tuned/\"\n",
      "AutoGluon Version:  0.8.0\n",
      "Python Version:     3.10.10\n",
      "Operating System:   Linux\n",
      "Platform Machine:   x86_64\n",
      "Platform Version:   #1 SMP PREEMPT_DYNAMIC Tue May 30 23:14:35 UTC 2023\n",
      "Disk Space Avail:   63.51 GB / 500.10 GB (12.7%)\n",
      "Train Data Rows:    40000\n",
      "Train Data Columns: 17\n",
      "Label Column: fare_amount\n",
      "Preprocessing data ...\n",
      "AutoGluon infers your prediction problem is: 'regression' (because dtype of label-column == float and label-values can't be converted to int).\n",
      "\tLabel info (max, min, mean, stddev): (819.5, -7.0, 13.23572, 11.96267)\n",
      "\tIf 'regression' is not the correct problem_type, please manually specify the problem_type parameter during predictor init (You may specify problem_type as one of: ['binary', 'multiclass', 'regression'])\n",
      "Using Feature Generators to preprocess the data ...\n",
      "Fitting AutoMLPipelineFeatureGenerator...\n",
      "\tAvailable Memory:                    20526.99 MB\n",
      "\tTrain Data (Original)  Memory Usage: 12.88 MB (0.1% of available memory)\n",
      "\tInferring data type of each feature based on column values. Set feature_metadata_in to manually specify special dtypes of the features.\n",
      "\tStage 1 Generators:\n",
      "\t\tFitting AsTypeFeatureGenerator...\n",
      "\t\t\tNote: Converting 2 features to boolean dtype as they only contain 2 unique values.\n",
      "\tStage 2 Generators:\n",
      "\t\tFitting FillNaFeatureGenerator...\n",
      "\tStage 3 Generators:\n",
      "\t\tFitting IdentityFeatureGenerator...\n",
      "\t\tFitting DatetimeFeatureGenerator...\n",
      "\tStage 4 Generators:\n",
      "\t\tFitting DropUniqueFeatureGenerator...\n",
      "\tStage 5 Generators:\n",
      "\t\tFitting DropDuplicatesFeatureGenerator...\n",
      "\tTypes of features in original data (raw dtype, special dtypes):\n",
      "\t\t('float', [])                      : 10 | ['trip_distance', 'pickup_longitude', 'pickup_latitude', 'dropoff_longitude', 'dropoff_latitude', ...]\n",
      "\t\t('int', [])                        :  4 | ['VendorID', 'passenger_count', 'RatecodeID', 'payment_type']\n",
      "\t\t('object', [])                     :  1 | ['store_and_fwd_flag']\n",
      "\t\t('object', ['datetime_as_object']) :  2 | ['tpep_pickup_datetime', 'tpep_dropoff_datetime']\n",
      "\tTypes of features in processed data (raw dtype, special dtypes):\n",
      "\t\t('float', [])                : 10 | ['trip_distance', 'pickup_longitude', 'pickup_latitude', 'dropoff_longitude', 'dropoff_latitude', ...]\n",
      "\t\t('int', [])                  :  3 | ['passenger_count', 'RatecodeID', 'payment_type']\n",
      "\t\t('int', ['bool'])            :  2 | ['VendorID', 'store_and_fwd_flag']\n",
      "\t\t('int', ['datetime_as_int']) :  6 | ['tpep_pickup_datetime', 'tpep_pickup_datetime.day', 'tpep_pickup_datetime.dayofweek', 'tpep_dropoff_datetime', 'tpep_dropoff_datetime.day', ...]\n",
      "\t0.3s = Fit runtime\n",
      "\t17 features in original data used to generate 21 features in processed data.\n",
      "\tTrain Data (Processed) Memory Usage: 6.16 MB (0.0% of available memory)\n",
      "Data preprocessing and feature engineering runtime = 0.28s ...\n",
      "AutoGluon will gauge predictive performance using evaluation metric: 'root_mean_squared_error'\n",
      "\tThis metric's sign has been flipped to adhere to being higher_is_better. The metric score can be multiplied by -1 to get the metric value.\n",
      "\tTo change this, specify the eval_metric parameter of Predictor()\n",
      "Automatically generating train/validation split with holdout_frac=0.0625, Train Rows: 37500, Val Rows: 2500\n",
      "User-specified model hyperparameters to be fit:\n",
      "{\n",
      "\t'NN_TORCH': {'num_epochs': 1, 'learning_rate': 0.5},\n",
      "\t'XGB': {},\n",
      "}\n",
      "Fitting 2 L1 models ...\n",
      "Fitting model: XGBoost ...\n",
      "\t-3.2111\t = Validation score   (-root_mean_squared_error)\n",
      "\t0.36s\t = Training   runtime\n",
      "\t0.0s\t = Validation runtime\n",
      "Fitting model: NeuralNetTorch ...\n",
      "\t-23.77\t = Validation score   (-root_mean_squared_error)\n",
      "\t0.94s\t = Training   runtime\n",
      "\t0.02s\t = Validation runtime\n",
      "Fitting model: WeightedEnsemble_L2 ...\n",
      "\t-3.2111\t = Validation score   (-root_mean_squared_error)\n",
      "\t0.07s\t = Training   runtime\n",
      "\t0.0s\t = Validation runtime\n",
      "AutoGluon training complete, total runtime = 1.78s ... Best model: \"WeightedEnsemble_L2\"\n",
      "TabularPredictor saved. To load, use: predictor = TabularPredictor.load(\"model_tuned/\")\n"
     ]
    },
    {
     "data": {
      "text/plain": [
       "<autogluon.tabular.predictor.predictor.TabularPredictor at 0x7fd418a7b6a0>"
      ]
     },
     "execution_count": 79,
     "metadata": {},
     "output_type": "execute_result"
    }
   ],
   "source": [
    "tuned_predictor = TabularPredictor(label='fare_amount', path='model_tuned')\n",
    "tuned_predictor.fit(\n",
    "        train_data=train_data,\n",
    "        hyperparameters=hyperparameters\n",
    "    )"
   ]
  },
  {
   "cell_type": "code",
   "execution_count": 80,
   "id": "2cfb17b3",
   "metadata": {
    "collapsed": true
   },
   "outputs": [
    {
     "name": "stdout",
     "output_type": "stream",
     "text": [
      "*** Summary of fit() ***\n",
      "Estimated performance of each model:\n",
      "                 model  score_val  pred_time_val  fit_time  pred_time_val_marginal  fit_time_marginal  stack_level  can_infer  fit_order\n",
      "0              XGBoost  -3.211102       0.003993  0.363999                0.003993           0.363999            1       True          1\n",
      "1  WeightedEnsemble_L2  -3.211102       0.004304  0.434471                0.000311           0.070472            2       True          3\n",
      "2       NeuralNetTorch -23.769987       0.019870  0.935391                0.019870           0.935391            1       True          2\n",
      "Number of models trained: 3\n",
      "Types of models trained:\n",
      "{'XGBoostModel', 'TabularNeuralNetTorchModel', 'WeightedEnsembleModel'}\n",
      "Bagging used: False \n",
      "Multi-layer stack-ensembling used: False \n",
      "Feature Metadata (Processed):\n",
      "(raw dtype, special dtypes):\n",
      "('float', [])                : 10 | ['trip_distance', 'pickup_longitude', 'pickup_latitude', 'dropoff_longitude', 'dropoff_latitude', ...]\n",
      "('int', [])                  :  3 | ['passenger_count', 'RatecodeID', 'payment_type']\n",
      "('int', ['bool'])            :  2 | ['VendorID', 'store_and_fwd_flag']\n",
      "('int', ['datetime_as_int']) :  6 | ['tpep_pickup_datetime', 'tpep_pickup_datetime.day', 'tpep_pickup_datetime.dayofweek', 'tpep_dropoff_datetime', 'tpep_dropoff_datetime.day', ...]\n",
      "*** End of fit() summary ***\n"
     ]
    },
    {
     "name": "stderr",
     "output_type": "stream",
     "text": [
      "/home/xiaodie/.local/lib/python3.10/site-packages/autogluon/core/utils/plots.py:138: UserWarning: AutoGluon summary plots cannot be created because bokeh is not installed. To see plots, please do: \"pip install bokeh==2.0.1\"\n",
      "  warnings.warn('AutoGluon summary plots cannot be created because bokeh is not installed. To see plots, please do: \"pip install bokeh==2.0.1\"')\n"
     ]
    },
    {
     "data": {
      "text/plain": [
       "{'model_types': {'XGBoost': 'XGBoostModel',\n",
       "  'NeuralNetTorch': 'TabularNeuralNetTorchModel',\n",
       "  'WeightedEnsemble_L2': 'WeightedEnsembleModel'},\n",
       " 'model_performance': {'XGBoost': -3.211102335193632,\n",
       "  'NeuralNetTorch': -23.769987410919043,\n",
       "  'WeightedEnsemble_L2': -3.211102335193632},\n",
       " 'model_best': 'WeightedEnsemble_L2',\n",
       " 'model_paths': {'XGBoost': 'model_tuned/models/XGBoost/',\n",
       "  'NeuralNetTorch': 'model_tuned/models/NeuralNetTorch/',\n",
       "  'WeightedEnsemble_L2': 'model_tuned/models/WeightedEnsemble_L2/'},\n",
       " 'model_fit_times': {'XGBoost': 0.3639991283416748,\n",
       "  'NeuralNetTorch': 0.9353909492492676,\n",
       "  'WeightedEnsemble_L2': 0.07047200202941895},\n",
       " 'model_pred_times': {'XGBoost': 0.003993034362792969,\n",
       "  'NeuralNetTorch': 0.019869565963745117,\n",
       "  'WeightedEnsemble_L2': 0.00031065940856933594},\n",
       " 'num_bag_folds': 0,\n",
       " 'max_stack_level': 2,\n",
       " 'model_hyperparams': {'XGBoost': {'n_estimators': 10000,\n",
       "   'learning_rate': 0.1,\n",
       "   'n_jobs': -1,\n",
       "   'proc.max_category_levels': 100,\n",
       "   'objective': 'reg:squarederror',\n",
       "   'booster': 'gbtree'},\n",
       "  'NeuralNetTorch': {'num_epochs': 1,\n",
       "   'epochs_wo_improve': 20,\n",
       "   'activation': 'relu',\n",
       "   'embedding_size_factor': 1.0,\n",
       "   'embed_exponent': 0.56,\n",
       "   'max_embedding_dim': 100,\n",
       "   'y_range': None,\n",
       "   'y_range_extend': 0.05,\n",
       "   'dropout_prob': 0.1,\n",
       "   'optimizer': 'adam',\n",
       "   'learning_rate': 0.5,\n",
       "   'weight_decay': 1e-06,\n",
       "   'proc.embed_min_categories': 4,\n",
       "   'proc.impute_strategy': 'median',\n",
       "   'proc.max_category_levels': 100,\n",
       "   'proc.skew_threshold': 0.99,\n",
       "   'use_ngram_features': False,\n",
       "   'num_layers': 4,\n",
       "   'hidden_size': 128,\n",
       "   'max_batch_size': 512,\n",
       "   'use_batchnorm': False,\n",
       "   'loss_function': 'auto'},\n",
       "  'WeightedEnsemble_L2': {'use_orig_features': False,\n",
       "   'max_base_models': 25,\n",
       "   'max_base_models_per_type': 5,\n",
       "   'save_bag_folds': True}},\n",
       " 'leaderboard':                  model  score_val  pred_time_val  fit_time  \\\n",
       " 0              XGBoost  -3.211102       0.003993  0.363999   \n",
       " 1  WeightedEnsemble_L2  -3.211102       0.004304  0.434471   \n",
       " 2       NeuralNetTorch -23.769987       0.019870  0.935391   \n",
       " \n",
       "    pred_time_val_marginal  fit_time_marginal  stack_level  can_infer  \\\n",
       " 0                0.003993           0.363999            1       True   \n",
       " 1                0.000311           0.070472            2       True   \n",
       " 2                0.019870           0.935391            1       True   \n",
       " \n",
       "    fit_order  \n",
       " 0          1  \n",
       " 1          3  \n",
       " 2          2  }"
      ]
     },
     "execution_count": 80,
     "metadata": {},
     "output_type": "execute_result"
    }
   ],
   "source": [
    "tuned_predictor.fit_summary()\n",
    "# AutoGluon only trained the two configured model for one epoch "
   ]
  },
  {
   "cell_type": "markdown",
   "id": "ce9048dd",
   "metadata": {},
   "source": [
    "|  | model | score_val | pred_time_val | fit_time | pred_time_val_marginal | fit_time_marginal | stack_level | can_infer | fit_order |\n",
    "| -- | -- | -- | -- | -- | -- | -- | -- | -- | -- |\n",
    "| 0 | XGBoost | -3.211102 | 0.003993 | 0.363999 | 0.003993 | 0.363999 | 1 | True | 1 |\n",
    "| 1 | WeightedEnsemble_L2 | -3.211102 | 0.004304 | 0.434471 | 0.000311 | 0.070472 | 2 | True | 3 |\n",
    "| 2 | NeuralNetTorch | -23.769987 | 0.019870 | 0.935391 | 0.019870 | 0.935391 | 1 | True | 2 |"
   ]
  },
  {
   "cell_type": "markdown",
   "id": "e9b9df23",
   "metadata": {},
   "source": [
    "#### AutoGluon Presets\n",
    "\n",
    "> Available Presets: [`best_quality`, `high_quality`, `good_quality`, `medium_quality`, `optimize_for_deployment`, `interpretable`, `ignore_text`]"
   ]
  },
  {
   "cell_type": "code",
   "execution_count": 81,
   "id": "e3909815",
   "metadata": {},
   "outputs": [],
   "source": [
    "presets = ['medium_quality'] # accept lower accuracy for speed"
   ]
  },
  {
   "cell_type": "code",
   "execution_count": 83,
   "id": "0a010bca",
   "metadata": {
    "collapsed": true
   },
   "outputs": [
    {
     "name": "stderr",
     "output_type": "stream",
     "text": [
      "Presets specified: ['medium_quality']\n",
      "Beginning AutoGluon training ...\n",
      "AutoGluon will save models to \"preset_model/\"\n",
      "AutoGluon Version:  0.8.0\n",
      "Python Version:     3.10.10\n",
      "Operating System:   Linux\n",
      "Platform Machine:   x86_64\n",
      "Platform Version:   #1 SMP PREEMPT_DYNAMIC Tue May 30 23:14:35 UTC 2023\n",
      "Disk Space Avail:   63.52 GB / 500.10 GB (12.7%)\n",
      "Train Data Rows:    40000\n",
      "Train Data Columns: 17\n",
      "Label Column: fare_amount\n",
      "Preprocessing data ...\n",
      "AutoGluon infers your prediction problem is: 'regression' (because dtype of label-column == float and label-values can't be converted to int).\n",
      "\tLabel info (max, min, mean, stddev): (819.5, -7.0, 13.23572, 11.96267)\n",
      "\tIf 'regression' is not the correct problem_type, please manually specify the problem_type parameter during predictor init (You may specify problem_type as one of: ['binary', 'multiclass', 'regression'])\n",
      "Using Feature Generators to preprocess the data ...\n",
      "Fitting AutoMLPipelineFeatureGenerator...\n",
      "\tAvailable Memory:                    20816.75 MB\n",
      "\tTrain Data (Original)  Memory Usage: 12.88 MB (0.1% of available memory)\n",
      "\tInferring data type of each feature based on column values. Set feature_metadata_in to manually specify special dtypes of the features.\n",
      "\tStage 1 Generators:\n",
      "\t\tFitting AsTypeFeatureGenerator...\n",
      "\t\t\tNote: Converting 2 features to boolean dtype as they only contain 2 unique values.\n",
      "\tStage 2 Generators:\n",
      "\t\tFitting FillNaFeatureGenerator...\n",
      "\tStage 3 Generators:\n",
      "\t\tFitting IdentityFeatureGenerator...\n",
      "\t\tFitting DatetimeFeatureGenerator...\n",
      "\tStage 4 Generators:\n",
      "\t\tFitting DropUniqueFeatureGenerator...\n",
      "\tStage 5 Generators:\n",
      "\t\tFitting DropDuplicatesFeatureGenerator...\n",
      "\tTypes of features in original data (raw dtype, special dtypes):\n",
      "\t\t('float', [])                      : 10 | ['trip_distance', 'pickup_longitude', 'pickup_latitude', 'dropoff_longitude', 'dropoff_latitude', ...]\n",
      "\t\t('int', [])                        :  4 | ['VendorID', 'passenger_count', 'RatecodeID', 'payment_type']\n",
      "\t\t('object', [])                     :  1 | ['store_and_fwd_flag']\n",
      "\t\t('object', ['datetime_as_object']) :  2 | ['tpep_pickup_datetime', 'tpep_dropoff_datetime']\n",
      "\tTypes of features in processed data (raw dtype, special dtypes):\n",
      "\t\t('float', [])                : 10 | ['trip_distance', 'pickup_longitude', 'pickup_latitude', 'dropoff_longitude', 'dropoff_latitude', ...]\n",
      "\t\t('int', [])                  :  3 | ['passenger_count', 'RatecodeID', 'payment_type']\n",
      "\t\t('int', ['bool'])            :  2 | ['VendorID', 'store_and_fwd_flag']\n",
      "\t\t('int', ['datetime_as_int']) :  6 | ['tpep_pickup_datetime', 'tpep_pickup_datetime.day', 'tpep_pickup_datetime.dayofweek', 'tpep_dropoff_datetime', 'tpep_dropoff_datetime.day', ...]\n",
      "\t0.3s = Fit runtime\n",
      "\t17 features in original data used to generate 21 features in processed data.\n",
      "\tTrain Data (Processed) Memory Usage: 6.16 MB (0.0% of available memory)\n",
      "Data preprocessing and feature engineering runtime = 0.28s ...\n",
      "AutoGluon will gauge predictive performance using evaluation metric: 'root_mean_squared_error'\n",
      "\tThis metric's sign has been flipped to adhere to being higher_is_better. The metric score can be multiplied by -1 to get the metric value.\n",
      "\tTo change this, specify the eval_metric parameter of Predictor()\n",
      "Automatically generating train/validation split with holdout_frac=0.0625, Train Rows: 37500, Val Rows: 2500\n",
      "User-specified model hyperparameters to be fit:\n",
      "{\n",
      "\t'NN_TORCH': {},\n",
      "\t'GBM': [{'extra_trees': True, 'ag_args': {'name_suffix': 'XT'}}, {}, 'GBMLarge'],\n",
      "\t'CAT': {},\n",
      "\t'XGB': {},\n",
      "\t'FASTAI': {},\n",
      "\t'RF': [{'criterion': 'gini', 'ag_args': {'name_suffix': 'Gini', 'problem_types': ['binary', 'multiclass']}}, {'criterion': 'entropy', 'ag_args': {'name_suffix': 'Entr', 'problem_types': ['binary', 'multiclass']}}, {'criterion': 'squared_error', 'ag_args': {'name_suffix': 'MSE', 'problem_types': ['regression', 'quantile']}}],\n",
      "\t'XT': [{'criterion': 'gini', 'ag_args': {'name_suffix': 'Gini', 'problem_types': ['binary', 'multiclass']}}, {'criterion': 'entropy', 'ag_args': {'name_suffix': 'Entr', 'problem_types': ['binary', 'multiclass']}}, {'criterion': 'squared_error', 'ag_args': {'name_suffix': 'MSE', 'problem_types': ['regression', 'quantile']}}],\n",
      "\t'KNN': [{'weights': 'uniform', 'ag_args': {'name_suffix': 'Unif'}}, {'weights': 'distance', 'ag_args': {'name_suffix': 'Dist'}}],\n",
      "}\n",
      "Included models: ['GBM', 'FASTAI', 'NN_TORCH'] (Specified by `included_model_types`, all other model types will be skipped)\n",
      "Fitting 5 L1 models ...\n",
      "Fitting model: LightGBMXT ...\n",
      "\t-3.4303\t = Validation score   (-root_mean_squared_error)\n",
      "\t0.46s\t = Training   runtime\n",
      "\t0.0s\t = Validation runtime\n",
      "Fitting model: LightGBM ...\n",
      "\t-3.245\t = Validation score   (-root_mean_squared_error)\n",
      "\t0.51s\t = Training   runtime\n",
      "\t0.0s\t = Validation runtime\n",
      "Fitting model: NeuralNetFastAI ...\n",
      "\t-3.3003\t = Validation score   (-root_mean_squared_error)\n",
      "\t26.11s\t = Training   runtime\n",
      "\t0.03s\t = Validation runtime\n",
      "Fitting model: NeuralNetTorch ...\n",
      "\t-5.6494\t = Validation score   (-root_mean_squared_error)\n",
      "\t13.74s\t = Training   runtime\n",
      "\t0.02s\t = Validation runtime\n",
      "Fitting model: LightGBMLarge ...\n",
      "\t-3.3387\t = Validation score   (-root_mean_squared_error)\n",
      "\t1.95s\t = Training   runtime\n",
      "\t0.03s\t = Validation runtime\n",
      "Fitting model: WeightedEnsemble_L2 ...\n",
      "\t-3.0542\t = Validation score   (-root_mean_squared_error)\n",
      "\t0.13s\t = Training   runtime\n",
      "\t0.0s\t = Validation runtime\n",
      "AutoGluon training complete, total runtime = 43.47s ... Best model: \"WeightedEnsemble_L2\"\n",
      "TabularPredictor saved. To load, use: predictor = TabularPredictor.load(\"preset_model/\")\n"
     ]
    },
    {
     "data": {
      "text/plain": [
       "<autogluon.tabular.predictor.predictor.TabularPredictor at 0x7fd34ee4af20>"
      ]
     },
     "execution_count": 83,
     "metadata": {},
     "output_type": "execute_result"
    }
   ],
   "source": [
    "preset_predictor = TabularPredictor(label='fare_amount', path='preset_model')\n",
    "preset_predictor.fit(\n",
    "        train_data=train_data,\n",
    "        presets=presets,\n",
    "        included_model_types=['GBM', 'FASTAI', 'NN_TORCH'], # only use those models\n",
    "        # excluded_model_types=['KNN', 'NN', 'XT', 'RF', 'FASTAI'] # use all but those models\n",
    "    )"
   ]
  },
  {
   "cell_type": "code",
   "execution_count": 84,
   "id": "bf5cd9f7",
   "metadata": {
    "collapsed": true
   },
   "outputs": [
    {
     "name": "stdout",
     "output_type": "stream",
     "text": [
      "*** Summary of fit() ***\n",
      "Estimated performance of each model:\n",
      "                 model  score_val  pred_time_val   fit_time  pred_time_val_marginal  fit_time_marginal  stack_level  can_infer  fit_order\n",
      "0  WeightedEnsemble_L2  -3.054243       0.083915  42.906133                0.000301           0.133571            2       True          6\n",
      "1             LightGBM  -3.245028       0.003262   0.507183                0.003262           0.507183            1       True          2\n",
      "2      NeuralNetFastAI  -3.300341       0.027946  26.112154                0.027946          26.112154            1       True          3\n",
      "3        LightGBMLarge  -3.338691       0.026010   1.953629                0.026010           1.953629            1       True          5\n",
      "4           LightGBMXT  -3.430323       0.004276   0.458992                0.004276           0.458992            1       True          1\n",
      "5       NeuralNetTorch  -5.649417       0.022120  13.740605                0.022120          13.740605            1       True          4\n",
      "Number of models trained: 6\n",
      "Types of models trained:\n",
      "{'LGBModel', 'NNFastAiTabularModel', 'TabularNeuralNetTorchModel', 'WeightedEnsembleModel'}\n",
      "Bagging used: False \n",
      "Multi-layer stack-ensembling used: False \n",
      "Feature Metadata (Processed):\n",
      "(raw dtype, special dtypes):\n",
      "('float', [])                : 10 | ['trip_distance', 'pickup_longitude', 'pickup_latitude', 'dropoff_longitude', 'dropoff_latitude', ...]\n",
      "('int', [])                  :  3 | ['passenger_count', 'RatecodeID', 'payment_type']\n",
      "('int', ['bool'])            :  2 | ['VendorID', 'store_and_fwd_flag']\n",
      "('int', ['datetime_as_int']) :  6 | ['tpep_pickup_datetime', 'tpep_pickup_datetime.day', 'tpep_pickup_datetime.dayofweek', 'tpep_dropoff_datetime', 'tpep_dropoff_datetime.day', ...]\n",
      "*** End of fit() summary ***\n"
     ]
    },
    {
     "name": "stderr",
     "output_type": "stream",
     "text": [
      "/home/xiaodie/.local/lib/python3.10/site-packages/autogluon/core/utils/plots.py:138: UserWarning: AutoGluon summary plots cannot be created because bokeh is not installed. To see plots, please do: \"pip install bokeh==2.0.1\"\n",
      "  warnings.warn('AutoGluon summary plots cannot be created because bokeh is not installed. To see plots, please do: \"pip install bokeh==2.0.1\"')\n"
     ]
    },
    {
     "data": {
      "text/plain": [
       "{'model_types': {'LightGBMXT': 'LGBModel',\n",
       "  'LightGBM': 'LGBModel',\n",
       "  'NeuralNetFastAI': 'NNFastAiTabularModel',\n",
       "  'NeuralNetTorch': 'TabularNeuralNetTorchModel',\n",
       "  'LightGBMLarge': 'LGBModel',\n",
       "  'WeightedEnsemble_L2': 'WeightedEnsembleModel'},\n",
       " 'model_performance': {'LightGBMXT': -3.430323408069052,\n",
       "  'LightGBM': -3.2450278853569237,\n",
       "  'NeuralNetFastAI': -3.3003409207633725,\n",
       "  'NeuralNetTorch': -5.649417242124493,\n",
       "  'LightGBMLarge': -3.3386909966101883,\n",
       "  'WeightedEnsemble_L2': -3.054243292051689},\n",
       " 'model_best': 'WeightedEnsemble_L2',\n",
       " 'model_paths': {'LightGBMXT': 'preset_model/models/LightGBMXT/',\n",
       "  'LightGBM': 'preset_model/models/LightGBM/',\n",
       "  'NeuralNetFastAI': 'preset_model/models/NeuralNetFastAI/',\n",
       "  'NeuralNetTorch': 'preset_model/models/NeuralNetTorch/',\n",
       "  'LightGBMLarge': 'preset_model/models/LightGBMLarge/',\n",
       "  'WeightedEnsemble_L2': 'preset_model/models/WeightedEnsemble_L2/'},\n",
       " 'model_fit_times': {'LightGBMXT': 0.45899176597595215,\n",
       "  'LightGBM': 0.5071825981140137,\n",
       "  'NeuralNetFastAI': 26.112154006958008,\n",
       "  'NeuralNetTorch': 13.740604877471924,\n",
       "  'LightGBMLarge': 1.9536287784576416,\n",
       "  'WeightedEnsemble_L2': 0.13357090950012207},\n",
       " 'model_pred_times': {'LightGBMXT': 0.0042760372161865234,\n",
       "  'LightGBM': 0.0032618045806884766,\n",
       "  'NeuralNetFastAI': 0.027945518493652344,\n",
       "  'NeuralNetTorch': 0.02212047576904297,\n",
       "  'LightGBMLarge': 0.026009798049926758,\n",
       "  'WeightedEnsemble_L2': 0.0003008842468261719},\n",
       " 'num_bag_folds': 0,\n",
       " 'max_stack_level': 2,\n",
       " 'model_hyperparams': {'LightGBMXT': {'learning_rate': 0.05,\n",
       "   'extra_trees': True},\n",
       "  'LightGBM': {'learning_rate': 0.05},\n",
       "  'NeuralNetFastAI': {'layers': None,\n",
       "   'emb_drop': 0.1,\n",
       "   'ps': 0.1,\n",
       "   'bs': 'auto',\n",
       "   'lr': 0.01,\n",
       "   'epochs': 'auto',\n",
       "   'early.stopping.min_delta': 0.0001,\n",
       "   'early.stopping.patience': 20,\n",
       "   'smoothing': 0.0},\n",
       "  'NeuralNetTorch': {'num_epochs': 500,\n",
       "   'epochs_wo_improve': 20,\n",
       "   'activation': 'relu',\n",
       "   'embedding_size_factor': 1.0,\n",
       "   'embed_exponent': 0.56,\n",
       "   'max_embedding_dim': 100,\n",
       "   'y_range': None,\n",
       "   'y_range_extend': 0.05,\n",
       "   'dropout_prob': 0.1,\n",
       "   'optimizer': 'adam',\n",
       "   'learning_rate': 0.0003,\n",
       "   'weight_decay': 1e-06,\n",
       "   'proc.embed_min_categories': 4,\n",
       "   'proc.impute_strategy': 'median',\n",
       "   'proc.max_category_levels': 100,\n",
       "   'proc.skew_threshold': 0.99,\n",
       "   'use_ngram_features': False,\n",
       "   'num_layers': 4,\n",
       "   'hidden_size': 128,\n",
       "   'max_batch_size': 512,\n",
       "   'use_batchnorm': False,\n",
       "   'loss_function': 'auto'},\n",
       "  'LightGBMLarge': {'learning_rate': 0.03,\n",
       "   'num_leaves': 128,\n",
       "   'feature_fraction': 0.9,\n",
       "   'min_data_in_leaf': 5},\n",
       "  'WeightedEnsemble_L2': {'use_orig_features': False,\n",
       "   'max_base_models': 25,\n",
       "   'max_base_models_per_type': 5,\n",
       "   'save_bag_folds': True}},\n",
       " 'leaderboard':                  model  score_val  pred_time_val   fit_time  \\\n",
       " 0  WeightedEnsemble_L2  -3.054243       0.083915  42.906133   \n",
       " 1             LightGBM  -3.245028       0.003262   0.507183   \n",
       " 2      NeuralNetFastAI  -3.300341       0.027946  26.112154   \n",
       " 3        LightGBMLarge  -3.338691       0.026010   1.953629   \n",
       " 4           LightGBMXT  -3.430323       0.004276   0.458992   \n",
       " 5       NeuralNetTorch  -5.649417       0.022120  13.740605   \n",
       " \n",
       "    pred_time_val_marginal  fit_time_marginal  stack_level  can_infer  \\\n",
       " 0                0.000301           0.133571            2       True   \n",
       " 1                0.003262           0.507183            1       True   \n",
       " 2                0.027946          26.112154            1       True   \n",
       " 3                0.026010           1.953629            1       True   \n",
       " 4                0.004276           0.458992            1       True   \n",
       " 5                0.022120          13.740605            1       True   \n",
       " \n",
       "    fit_order  \n",
       " 0          6  \n",
       " 1          2  \n",
       " 2          3  \n",
       " 3          5  \n",
       " 4          1  \n",
       " 5          4  }"
      ]
     },
     "execution_count": 84,
     "metadata": {},
     "output_type": "execute_result"
    }
   ],
   "source": [
    "preset_predictor.fit_summary()"
   ]
  },
  {
   "cell_type": "markdown",
   "id": "b8ab8369",
   "metadata": {},
   "source": [
    "|  | model | score_val | pred_time_val | fit_time | pred_time_val_marginal | fit_time_marginal | stack_level | can_infer | fit_order |\n",
    "| -- | -- | -- | -- | -- | -- | -- | -- | -- | -- |\n",
    "| 0 | WeightedEnsemble_L2 | -3.054243 | 0.083915 | 42.906133 | 0.000301 | 0.133571 | 2 | True | 6 |\n",
    "| 1 | LightGBM | -3.245028 | 0.003262 | 0.507183 | 0.003262 | 0.507183 | 1 | True | 2 |\n",
    "| 2 | NeuralNetFastAI | -3.300341 | 0.027946 | 26.112154 | 0.027946 | 26.112154 | 1 | True | 3 |\n",
    "| 3 | LightGBMLarge | -3.338691 | 0.026010 | 1.953629 | 0.026010 | 1.953629 | 1 | True | 5 |\n",
    "| 4 | LightGBMXT | -3.430323 | 0.004276 | 0.458992 | 0.004276 | 0.458992 | 1 | True | 1 |\n",
    "| 5 | NeuralNetTorch | -5.649417 | 0.022120 | 13.740605 | 0.022120 | 13.740605 | 1 | True | 4 |"
   ]
  },
  {
   "cell_type": "markdown",
   "id": "cd2c3e36",
   "metadata": {},
   "source": [
    "## Model Deployment"
   ]
  },
  {
   "cell_type": "code",
   "execution_count": 7,
   "id": "595e2581",
   "metadata": {},
   "outputs": [],
   "source": [
    "predictor = TabularPredictor.load(\"model/\")"
   ]
  },
  {
   "cell_type": "code",
   "execution_count": 8,
   "id": "a284f289",
   "metadata": {},
   "outputs": [
    {
     "data": {
      "text/plain": [
       "{'KNeighborsUnif': 'KNeighborsUnif_FULL',\n",
       " 'KNeighborsDist': 'KNeighborsDist_FULL',\n",
       " 'LightGBMXT': 'LightGBMXT_FULL',\n",
       " 'LightGBM': 'LightGBM_FULL',\n",
       " 'RandomForestMSE': 'RandomForestMSE_FULL',\n",
       " 'CatBoost': 'CatBoost_FULL',\n",
       " 'ExtraTreesMSE': 'ExtraTreesMSE_FULL',\n",
       " 'NeuralNetFastAI': 'NeuralNetFastAI_FULL',\n",
       " 'XGBoost': 'XGBoost_FULL',\n",
       " 'NeuralNetTorch': 'NeuralNetTorch_FULL',\n",
       " 'LightGBMLarge': 'LightGBMLarge_FULL',\n",
       " 'WeightedEnsemble_L2': 'WeightedEnsemble_L2_FULL'}"
      ]
     },
     "execution_count": 8,
     "metadata": {},
     "output_type": "execute_result"
    }
   ],
   "source": [
    "# retain model on train + validation dataset\n",
    "predictor.refit_full()"
   ]
  },
  {
   "cell_type": "code",
   "execution_count": 10,
   "id": "2a56ad98",
   "metadata": {
    "collapsed": true
   },
   "outputs": [
    {
     "name": "stderr",
     "output_type": "stream",
     "text": [
      "Cloned TabularPredictor located in 'model/' to 'production_model'.\n",
      "\tTo load the cloned predictor: predictor_clone = TabularPredictor.load(path=\"production_model\")\n",
      "Clone: Keeping minimum set of models required to predict with best model 'WeightedEnsemble_L2_FULL'...\n",
      "Deleting model KNeighborsUnif. All files under production_model/models/KNeighborsUnif/ will be removed.\n",
      "Deleting model KNeighborsDist. All files under production_model/models/KNeighborsDist/ will be removed.\n",
      "Deleting model LightGBMXT. All files under production_model/models/LightGBMXT/ will be removed.\n",
      "Deleting model LightGBM. All files under production_model/models/LightGBM/ will be removed.\n",
      "Deleting model RandomForestMSE. All files under production_model/models/RandomForestMSE/ will be removed.\n",
      "Deleting model CatBoost. All files under production_model/models/CatBoost/ will be removed.\n",
      "Deleting model ExtraTreesMSE. All files under production_model/models/ExtraTreesMSE/ will be removed.\n",
      "Deleting model NeuralNetFastAI. All files under production_model/models/NeuralNetFastAI/ will be removed.\n",
      "Deleting model XGBoost. All files under production_model/models/XGBoost/ will be removed.\n",
      "Deleting model NeuralNetTorch. All files under production_model/models/NeuralNetTorch/ will be removed.\n",
      "Deleting model LightGBMLarge. All files under production_model/models/LightGBMLarge/ will be removed.\n",
      "Deleting model WeightedEnsemble_L2. All files under production_model/models/WeightedEnsemble_L2/ will be removed.\n",
      "Deleting model KNeighborsDist_FULL. All files under production_model/models/KNeighborsDist_FULL/ will be removed.\n",
      "Deleting model LightGBMXT_FULL. All files under production_model/models/LightGBMXT_FULL/ will be removed.\n",
      "Deleting model LightGBM_FULL. All files under production_model/models/LightGBM_FULL/ will be removed.\n",
      "Deleting model RandomForestMSE_FULL. All files under production_model/models/RandomForestMSE_FULL/ will be removed.\n",
      "Deleting model NeuralNetTorch_FULL. All files under production_model/models/NeuralNetTorch_FULL/ will be removed.\n",
      "Deleting model LightGBMLarge_FULL. All files under production_model/models/LightGBMLarge_FULL/ will be removed.\n",
      "Clone: Removing artifacts unnecessary for prediction. NOTE: Clone can no longer fit new models, and most functionality except for predict and predict_proba will no longer work\n"
     ]
    },
    {
     "data": {
      "text/plain": [
       "'production_model/'"
      ]
     },
     "execution_count": 10,
     "metadata": {},
     "output_type": "execute_result"
    }
   ],
   "source": [
    "# strip all models not part of the `WeightedEnsemble_L2_FULL`\n",
    "predictor.clone_for_deployment('production_model')\n",
    "# Clone: Keeping minimum set of models required to predict with best model 'WeightedEnsemble_L2_FULL'...\n",
    "# To load the cloned predictor: predictor_clone = TabularPredictor.load(path=\"production_model\")"
   ]
  },
  {
   "cell_type": "code",
   "execution_count": 11,
   "id": "0b5e7f55",
   "metadata": {},
   "outputs": [],
   "source": [
    "predictor_clone = TabularPredictor.load(path=\"production_model\")"
   ]
  },
  {
   "cell_type": "code",
   "execution_count": 13,
   "id": "27eb12dd",
   "metadata": {},
   "outputs": [
    {
     "data": {
      "text/plain": [
       "0    20.425285\n",
       "Name: fare_amount, dtype: float32"
      ]
     },
     "execution_count": 13,
     "metadata": {},
     "output_type": "execute_result"
    }
   ],
   "source": [
    "test_data = TabularDataset('dataset/test_data.csv')\n",
    "predictor_clone.predict(test_data)\n",
    "\n",
    "# 0    20.425285\n",
    "# Name: fare_amount, dtype: float32"
   ]
  },
  {
   "cell_type": "code",
   "execution_count": null,
   "id": "8d65a079",
   "metadata": {},
   "outputs": [],
   "source": []
  }
 ],
 "metadata": {
  "jupytext": {
   "formats": "ipynb,md"
  },
  "kernelspec": {
   "display_name": "Python 3 (ipykernel)",
   "language": "python",
   "name": "python3"
  },
  "language_info": {
   "codemirror_mode": {
    "name": "ipython",
    "version": 3
   },
   "file_extension": ".py",
   "mimetype": "text/x-python",
   "name": "python",
   "nbconvert_exporter": "python",
   "pygments_lexer": "ipython3",
   "version": "3.10.10"
  }
 },
 "nbformat": 4,
 "nbformat_minor": 5
}
