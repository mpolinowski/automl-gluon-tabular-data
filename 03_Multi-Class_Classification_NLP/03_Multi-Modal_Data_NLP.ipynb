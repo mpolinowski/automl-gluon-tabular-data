{
 "cells": [
  {
   "cell_type": "markdown",
   "id": "6bcac2f0",
   "metadata": {},
   "source": [
    "# AutoML with AutoGluon for Multi-Modal Data"
   ]
  },
  {
   "cell_type": "markdown",
   "id": "07b03d60",
   "metadata": {},
   "source": [
    "__Amazon Product Reviews__:\n",
    "This is a large crawl of product reviews from Amazon. This dataset contains 82.83 million unique reviews, from around 20 million users.\n",
    "\n",
    "[Justifying recommendations using distantly-labeled reviews and fined-grained aspects](https://cseweb.ucsd.edu/~jmcauley/datasets/amazon_v2/)\n",
    "`Jianmo Ni`, `Jiacheng Li`, `Julian McAuley`\n",
    "_Empirical Methods in Natural Language Processing (EMNLP), 2019_"
   ]
  },
  {
   "cell_type": "markdown",
   "id": "5a53704b",
   "metadata": {},
   "source": [
    "## Sentiment Analysis for 5-star Ratings"
   ]
  },
  {
   "cell_type": "code",
   "execution_count": 6,
   "id": "941dabbc",
   "metadata": {
    "collapsed": true
   },
   "outputs": [
    {
     "name": "stdout",
     "output_type": "stream",
     "text": [
      "--2023-06-23 17:33:20--  https://github.com/willfry01/Amazon-Reviews-Sentiment/raw/master/preprocessed_kindle_review%20.csv\n",
      "Loaded CA certificate '/etc/ssl/certs/ca-certificates.crt'\n",
      "Resolving github.com (github.com)... 20.27.177.113\n",
      "Connecting to github.com (github.com)|20.27.177.113|:443... connected.\n",
      "HTTP request sent, awaiting response... 302 Found\n",
      "Location: https://raw.githubusercontent.com/willfry01/Amazon-Reviews-Sentiment/master/preprocessed_kindle_review%20.csv [following]\n",
      "--2023-06-23 17:33:21--  https://raw.githubusercontent.com/willfry01/Amazon-Reviews-Sentiment/master/preprocessed_kindle_review%20.csv\n",
      "Resolving raw.githubusercontent.com (raw.githubusercontent.com)... 185.199.110.133, 185.199.111.133, 185.199.108.133, ...\n",
      "Connecting to raw.githubusercontent.com (raw.githubusercontent.com)|185.199.110.133|:443... connected.\n",
      "HTTP request sent, awaiting response... 200 OK\n",
      "Length: 7620879 (7.3M) [text/plain]\n",
      "Saving to: ‘dataset/preprocessed_kindle_review .csv’\n",
      "\n",
      "preprocessed_kindle 100%[===================>]   7.27M  3.43MB/s    in 2.1s    \n",
      "\n",
      "2023-06-23 17:33:24 (3.43 MB/s) - ‘dataset/preprocessed_kindle_review .csv’ saved [7620879/7620879]\n",
      "\n"
     ]
    }
   ],
   "source": [
    "!wget https://github.com/willfry01/Amazon-Reviews-Sentiment/raw/master/preprocessed_kindle_review%20.csv -P dataset"
   ]
  },
  {
   "cell_type": "code",
   "execution_count": null,
   "id": "8ec3d927",
   "metadata": {},
   "outputs": [],
   "source": [
    "# error importing vowpalwabbit\n",
    "!pip install vowpalwabbit==9.4 \n",
    "# AttributeError: module 'wandb.sdk' has no attribute 'lib'\n",
    "!pip install --force shortuuid==1.0.1\n",
    "# AttributeError: module 'dns.rdtypes' has no attribute 'ANY'\n",
    "!pip install eventlet==0.33.3"
   ]
  },
  {
   "cell_type": "code",
   "execution_count": 1,
   "id": "de8f27ac",
   "metadata": {},
   "outputs": [
    {
     "name": "stderr",
     "output_type": "stream",
     "text": [
      "2023-06-23 22:13:33.143773: I tensorflow/core/platform/cpu_feature_guard.cc:182] This TensorFlow binary is optimized to use available CPU instructions in performance-critical operations.\n",
      "To enable the following instructions: AVX2 FMA, in other operations, rebuild TensorFlow with the appropriate compiler flags.\n"
     ]
    }
   ],
   "source": [
    "from autogluon.tabular import TabularDataset, TabularPredictor\n",
    "from autogluon.multimodal import MultiModalPredictor\n",
    "import matplotlib.pyplot as plt\n",
    "import pandas as pd\n",
    "from sklearn.metrics import confusion_matrix, ConfusionMatrixDisplay\n",
    "import seaborn as sns"
   ]
  },
  {
   "cell_type": "code",
   "execution_count": 2,
   "id": "c4cf1055",
   "metadata": {},
   "outputs": [],
   "source": [
    "SEED = 42\n",
    "MODEL_PATH = 'model'"
   ]
  },
  {
   "cell_type": "markdown",
   "id": "e20b80a6",
   "metadata": {},
   "source": [
    "### Data Preprocessing"
   ]
  },
  {
   "cell_type": "code",
   "execution_count": 3,
   "id": "a193511c",
   "metadata": {
    "collapsed": true
   },
   "outputs": [
    {
     "data": {
      "text/html": [
       "<div>\n",
       "<style scoped>\n",
       "    .dataframe tbody tr th:only-of-type {\n",
       "        vertical-align: middle;\n",
       "    }\n",
       "\n",
       "    .dataframe tbody tr th {\n",
       "        vertical-align: top;\n",
       "    }\n",
       "\n",
       "    .dataframe thead th {\n",
       "        text-align: right;\n",
       "    }\n",
       "</style>\n",
       "<table border=\"1\" class=\"dataframe\">\n",
       "  <thead>\n",
       "    <tr style=\"text-align: right;\">\n",
       "      <th></th>\n",
       "      <th>Unnamed: 0</th>\n",
       "      <th>rating</th>\n",
       "      <th>reviewText</th>\n",
       "      <th>summary</th>\n",
       "    </tr>\n",
       "  </thead>\n",
       "  <tbody>\n",
       "    <tr>\n",
       "      <th>0</th>\n",
       "      <td>0</td>\n",
       "      <td>5</td>\n",
       "      <td>This book was the very first bookmobile book I...</td>\n",
       "      <td>50 + years ago...</td>\n",
       "    </tr>\n",
       "    <tr>\n",
       "      <th>1</th>\n",
       "      <td>1</td>\n",
       "      <td>1</td>\n",
       "      <td>When I read the description for this book, I c...</td>\n",
       "      <td>Boring! Boring! Boring!</td>\n",
       "    </tr>\n",
       "    <tr>\n",
       "      <th>2</th>\n",
       "      <td>2</td>\n",
       "      <td>5</td>\n",
       "      <td>I just had to edit this review. This book is a...</td>\n",
       "      <td>Wiggleliscious/new toy ready/!!</td>\n",
       "    </tr>\n",
       "    <tr>\n",
       "      <th>3</th>\n",
       "      <td>3</td>\n",
       "      <td>5</td>\n",
       "      <td>I don't normally buy 'mystery' novels because ...</td>\n",
       "      <td>Very good read.</td>\n",
       "    </tr>\n",
       "    <tr>\n",
       "      <th>4</th>\n",
       "      <td>4</td>\n",
       "      <td>5</td>\n",
       "      <td>This isn't the kind of book I normally read, a...</td>\n",
       "      <td>Great Story!</td>\n",
       "    </tr>\n",
       "  </tbody>\n",
       "</table>\n",
       "</div>"
      ],
      "text/plain": [
       "   Unnamed: 0  rating                                         reviewText  \\\n",
       "0           0       5  This book was the very first bookmobile book I...   \n",
       "1           1       1  When I read the description for this book, I c...   \n",
       "2           2       5  I just had to edit this review. This book is a...   \n",
       "3           3       5  I don't normally buy 'mystery' novels because ...   \n",
       "4           4       5  This isn't the kind of book I normally read, a...   \n",
       "\n",
       "                           summary  \n",
       "0                50 + years ago...  \n",
       "1          Boring! Boring! Boring!  \n",
       "2  Wiggleliscious/new toy ready/!!  \n",
       "3                  Very good read.  \n",
       "4                     Great Story!  "
      ]
     },
     "execution_count": 3,
     "metadata": {},
     "output_type": "execute_result"
    }
   ],
   "source": [
    "data = TabularDataset('dataset/kindle_review.csv')\n",
    "data.head(5)"
   ]
  },
  {
   "cell_type": "markdown",
   "id": "4b1b4ce5",
   "metadata": {},
   "source": [
    "|    | Unnamed: 0 | rating | reviewText | summary |\n",
    "| -- | -- | -- | -- | -- |\n",
    "| 0 | 0 | 5 | This book was the very first bookmobile book I... | 50 + years ago... |\n",
    "| 1 | 1 | 1 | When I read the description for this book, I c... | Boring! Boring! Boring! |\n",
    "| 2 | 2 | 5 | I just had to edit this review. This book is a... | Wiggleliscious/new toy ready/!! |\n",
    "| 3 | 3 | 5 | I don't normally buy 'mystery' novels because ... | Very good read. |\n",
    "| 4 | 4 | 5 | This isn't the kind of book I normally read, a... | Great Story! |"
   ]
  },
  {
   "cell_type": "code",
   "execution_count": 6,
   "id": "5ac7ebff",
   "metadata": {
    "collapsed": true
   },
   "outputs": [
    {
     "data": {
      "text/plain": [
       "'This book was the very first bookmobile book I bought when I was in the school book club. I loved the story then and I bet a dollar to a donut I will love it again. If my memory serves, I bought this book in 5th grade. That would have been about 1961. I am looking forward to reliving the memories.'"
      ]
     },
     "execution_count": 6,
     "metadata": {},
     "output_type": "execute_result"
    }
   ],
   "source": [
    "data['reviewText'].iloc[0]\n",
    "# 'This book was the very first bookmobile book I bought when I was in the school book club. I loved the story then and I bet a dollar to a donut I will love it again. If my memory serves, I bought this book in 5th grade. That would have been about 1961. I am looking forward to reliving the memories.'"
   ]
  },
  {
   "cell_type": "code",
   "execution_count": 12,
   "id": "da342f92",
   "metadata": {},
   "outputs": [
    {
     "data": {
      "text/plain": [
       "9600"
      ]
     },
     "execution_count": 12,
     "metadata": {},
     "output_type": "execute_result"
    }
   ],
   "source": [
    "# train / test split\n",
    "len(data)*0.8\n",
    "# 9600"
   ]
  },
  {
   "cell_type": "code",
   "execution_count": 4,
   "id": "5ced559b",
   "metadata": {},
   "outputs": [],
   "source": [
    "train_data = data.sample(frac=0.8 , random_state=SEED)\n",
    "test_data = data.drop(train_data.index)"
   ]
  },
  {
   "cell_type": "markdown",
   "id": "142c2449",
   "metadata": {},
   "source": [
    "### Model Training"
   ]
  },
  {
   "cell_type": "code",
   "execution_count": 9,
   "id": "cbe143c9",
   "metadata": {},
   "outputs": [
    {
     "name": "stderr",
     "output_type": "stream",
     "text": [
      "Warning: path already exists! This predictor may overwrite an existing predictor! path=\"model\"\n"
     ]
    }
   ],
   "source": [
    "nlp_predictor = TabularPredictor(label='rating', path=MODEL_PATH)"
   ]
  },
  {
   "cell_type": "code",
   "execution_count": 10,
   "id": "4820b6fc",
   "metadata": {
    "collapsed": true
   },
   "outputs": [
    {
     "name": "stderr",
     "output_type": "stream",
     "text": [
      "Beginning AutoGluon training ...\n",
      "AutoGluon will save models to \"model/\"\n",
      "AutoGluon Version:  0.8.0\n",
      "Python Version:     3.10.10\n",
      "Operating System:   Linux\n",
      "Platform Machine:   x86_64\n",
      "Platform Version:   #1 SMP PREEMPT_DYNAMIC Tue May 30 23:14:35 UTC 2023\n",
      "Disk Space Avail:   64.94 GB / 500.10 GB (13.0%)\n",
      "Train Data Rows:    9600\n",
      "Train Data Columns: 3\n",
      "Label Column: rating\n",
      "Preprocessing data ...\n",
      "AutoGluon infers your prediction problem is: 'multiclass' (because dtype of label-column == int, but few unique label-values observed).\n",
      "\t5 unique label values:  [4, 3, 5, 2, 1]\n",
      "\tIf 'multiclass' is not the correct problem_type, please manually specify the problem_type parameter during predictor init (You may specify problem_type as one of: ['binary', 'multiclass', 'regression'])\n",
      "Train Data Class Count: 5\n",
      "Using Feature Generators to preprocess the data ...\n",
      "Fitting AutoMLPipelineFeatureGenerator...\n",
      "\tAvailable Memory:                    25354.95 MB\n",
      "\tTrain Data (Original)  Memory Usage: 7.14 MB (0.0% of available memory)\n",
      "\tInferring data type of each feature based on column values. Set feature_metadata_in to manually specify special dtypes of the features.\n",
      "\tStage 1 Generators:\n",
      "\t\tFitting AsTypeFeatureGenerator...\n",
      "\tStage 2 Generators:\n",
      "\t\tFitting FillNaFeatureGenerator...\n",
      "\tStage 3 Generators:\n",
      "\t\tFitting IdentityFeatureGenerator...\n",
      "\t\tFitting IdentityFeatureGenerator...\n",
      "\t\t\tFitting RenameFeatureGenerator...\n",
      "\t\tFitting CategoryFeatureGenerator...\n",
      "\t\t\tFitting CategoryMemoryMinimizeFeatureGenerator...\n",
      "\t\tFitting TextSpecialFeatureGenerator...\n",
      "\t\t\tFitting BinnedFeatureGenerator...\n",
      "\t\t\tFitting DropDuplicatesFeatureGenerator...\n",
      "\t\tFitting TextNgramFeatureGenerator...\n",
      "\t\t\tFitting CountVectorizer for text features: ['reviewText', 'summary']\n",
      "\t\t\tCountVectorizer fit with vocabulary size = 6873\n",
      "\tStage 4 Generators:\n",
      "\t\tFitting DropUniqueFeatureGenerator...\n",
      "\tStage 5 Generators:\n",
      "\t\tFitting DropDuplicatesFeatureGenerator...\n",
      "\tTypes of features in original data (raw dtype, special dtypes):\n",
      "\t\t('int', [])          : 1 | ['Unnamed: 0']\n",
      "\t\t('object', ['text']) : 2 | ['reviewText', 'summary']\n",
      "\tTypes of features in processed data (raw dtype, special dtypes):\n",
      "\t\t('category', ['text_as_category'])  :    1 | ['summary']\n",
      "\t\t('int', [])                         :    1 | ['Unnamed: 0']\n",
      "\t\t('int', ['binned', 'text_special']) :   48 | ['reviewText.char_count', 'reviewText.word_count', 'reviewText.capital_ratio', 'reviewText.lower_ratio', 'reviewText.digit_ratio', ...]\n",
      "\t\t('int', ['text_ngram'])             : 6788 | ['__nlp__.000', '__nlp__.10', '__nlp__.100', '__nlp__.11', '__nlp__.12', ...]\n",
      "\t\t('object', ['text'])                :    2 | ['reviewText_raw_text', 'summary_raw_text']\n",
      "\t25.8s = Fit runtime\n",
      "\t3 features in original data used to generate 6840 features in processed data.\n",
      "\tTrain Data (Processed) Memory Usage: 137.95 MB (0.5% of available memory)\n",
      "Data preprocessing and feature engineering runtime = 26.84s ...\n",
      "AutoGluon will gauge predictive performance using evaluation metric: 'accuracy'\n",
      "\tTo change this, specify the eval_metric parameter of Predictor()\n",
      "Automatically generating train/validation split with holdout_frac=0.1, Train Rows: 8640, Val Rows: 960\n",
      "User-specified model hyperparameters to be fit:\n",
      "{\n",
      "\t'NN_TORCH': {},\n",
      "\t'GBM': [{}, {'extra_trees': True, 'ag_args': {'name_suffix': 'XT'}}, 'GBMLarge'],\n",
      "\t'CAT': {},\n",
      "\t'XGB': {},\n",
      "\t'AG_AUTOMM': {},\n",
      "\t'VW': {},\n",
      "}\n",
      "Fitting 8 L1 models ...\n",
      "Fitting model: LightGBM ...\n",
      "\t0.5479\t = Validation score   (accuracy)\n",
      "\t27.52s\t = Training   runtime\n",
      "\t0.11s\t = Validation runtime\n",
      "Fitting model: LightGBMXT ...\n",
      "\t0.5458\t = Validation score   (accuracy)\n",
      "\t17.41s\t = Training   runtime\n",
      "\t0.08s\t = Validation runtime\n",
      "Fitting model: CatBoost ...\n",
      "\tMany features detected (6838), dynamically setting 'colsample_bylevel' to 0.14624159110851126 to speed up training (Default = 1).\n",
      "\tTo disable this functionality, explicitly specify 'colsample_bylevel' in the model hyperparameters.\n",
      "\t0.5469\t = Validation score   (accuracy)\n",
      "\t110.42s\t = Training   runtime\n",
      "\t0.45s\t = Validation runtime\n",
      "Fitting model: XGBoost ...\n",
      "\t0.5365\t = Validation score   (accuracy)\n",
      "\t107.38s\t = Training   runtime\n",
      "\t0.1s\t = Validation runtime\n",
      "Fitting model: NeuralNetTorch ...\n",
      "\t0.3635\t = Validation score   (accuracy)\n",
      "\t10.76s\t = Training   runtime\n",
      "\t0.03s\t = Validation runtime\n",
      "Fitting model: VowpalWabbit ...\n",
      "\t0.251\t = Validation score   (accuracy)\n",
      "\t3.3s\t = Training   runtime\n",
      "\t0.04s\t = Validation runtime\n",
      "Fitting model: LightGBMLarge ...\n",
      "\t0.5479\t = Validation score   (accuracy)\n",
      "\t93.35s\t = Training   runtime\n",
      "\t0.29s\t = Validation runtime\n",
      "Fitting model: MultiModalPredictor ...\n",
      "\tWarning: Exception caused MultiModalPredictor to fail during training... Skipping this model.\n",
      "\t\tSpecified num_gpus=0 per MultiModalPredictorModel is less than minimum num_gpus=1\n",
      "Detailed Traceback:\n",
      "Traceback (most recent call last):\n",
      "  File \"/home/xiaodie/.local/lib/python3.10/site-packages/autogluon/core/trainer/abstract_trainer.py\", line 1544, in _train_and_save\n",
      "    model = self._train_single(X, y, model, X_val, y_val, total_resources=total_resources, **model_fit_kwargs)\n",
      "  File \"/home/xiaodie/.local/lib/python3.10/site-packages/autogluon/core/trainer/abstract_trainer.py\", line 1485, in _train_single\n",
      "    model = model.fit(X=X, y=y, X_val=X_val, y_val=y_val, total_resources=total_resources, **model_fit_kwargs)\n",
      "  File \"/home/xiaodie/.local/lib/python3.10/site-packages/autogluon/core/models/abstract/abstract_model.py\", line 803, in fit\n",
      "    kwargs = self._preprocess_fit_args(**kwargs)\n",
      "  File \"/home/xiaodie/.local/lib/python3.10/site-packages/autogluon/core/models/abstract/abstract_model.py\", line 488, in _preprocess_fit_args\n",
      "    kwargs = self._preprocess_fit_resources(**kwargs)\n",
      "  File \"/home/xiaodie/.local/lib/python3.10/site-packages/autogluon/core/models/abstract/abstract_model.py\", line 714, in _preprocess_fit_resources\n",
      "    return self._calculate_total_resources(silent=silent, total_resources=total_resources, parallel_hpo=parallel_hpo, **kwargs)\n",
      "  File \"/home/xiaodie/.local/lib/python3.10/site-packages/autogluon/core/models/abstract/abstract_model.py\", line 661, in _calculate_total_resources\n",
      "    assert num_gpus >= minimum_model_num_gpus, f'Specified num_gpus={num_gpus} per {self.__class__.__name__} is less than minimum num_gpus={minimum_model_num_gpus}'\n",
      "AssertionError: Specified num_gpus=0 per MultiModalPredictorModel is less than minimum num_gpus=1\n",
      "Fitting model: WeightedEnsemble_L2 ...\n",
      "\t0.5604\t = Validation score   (accuracy)\n",
      "\t0.25s\t = Training   runtime\n",
      "\t0.0s\t = Validation runtime\n",
      "AutoGluon training complete, total runtime = 404.07s ... Best model: \"WeightedEnsemble_L2\"\n",
      "TabularPredictor saved. To load, use: predictor = TabularPredictor.load(\"model/\")\n"
     ]
    },
    {
     "data": {
      "text/plain": [
       "<autogluon.tabular.predictor.predictor.TabularPredictor at 0x7f7758963670>"
      ]
     },
     "execution_count": 10,
     "metadata": {},
     "output_type": "execute_result"
    }
   ],
   "source": [
    "# my GPU runs out of VRAM -> deactivate GPU accelleration\n",
    "nlp_predictor.fit(train_data, hyperparameters='multimodal', num_cpus='auto', num_gpus=0)\n",
    "# AutoGluon infers your prediction problem is: 'multiclass'\n",
    "#\t5 unique label values:  [4, 3, 5, 2, 1]\n",
    "\n",
    "# Fitting CountVectorizer for text features: ['reviewText', 'summary']\n",
    "# \t\t\tCountVectorizer fit with vocabulary size = 6873\n",
    "\n",
    "# Fitting model: WeightedEnsemble_L2 ...\n",
    "# \t0.5604\t = Validation score   (accuracy)\n",
    "# \t0.24s\t = Training   runtime\n",
    "# \t0.0s\t = Validation runtime\n",
    "# AutoGluon training complete, total runtime = 409.69s ... Best model: \"WeightedEnsemble_L2\""
   ]
  },
  {
   "cell_type": "markdown",
   "id": "fbd120a6",
   "metadata": {},
   "source": [
    "### Model Evaluation"
   ]
  },
  {
   "cell_type": "code",
   "execution_count": 16,
   "id": "942d9345",
   "metadata": {
    "collapsed": true
   },
   "outputs": [
    {
     "name": "stderr",
     "output_type": "stream",
     "text": [
      "Loaded data from: dataset/test_rating.csv | Columns = 4 / 4 | Rows = 3 -> 3\n"
     ]
    },
    {
     "data": {
      "text/plain": [
       "0    2\n",
       "1    4\n",
       "2    5\n",
       "Name: rating, dtype: int64"
      ]
     },
     "execution_count": 16,
     "metadata": {},
     "output_type": "execute_result"
    }
   ],
   "source": [
    "# run test prediction\n",
    "test_rating_from_csv = TabularDataset('dataset/test_rating.csv')\n",
    "nlp_predictor.predict(test_rating_from_csv)\n",
    "# 0    2\n",
    "# 1    4\n",
    "# 2    5\n",
    "# Name: rating, dtype: int64"
   ]
  },
  {
   "cell_type": "code",
   "execution_count": 12,
   "id": "70719645",
   "metadata": {},
   "outputs": [],
   "source": [
    "X_test = test_data.drop(columns=['rating'], axis=1)\n",
    "y_test = test_data['rating']"
   ]
  },
  {
   "cell_type": "code",
   "execution_count": 13,
   "id": "ddae63b9",
   "metadata": {},
   "outputs": [
    {
     "name": "stderr",
     "output_type": "stream",
     "text": [
      "Evaluation: accuracy on test data: 0.5391666666666667\n",
      "Evaluations on test data:\n",
      "{\n",
      "    \"accuracy\": 0.5391666666666667,\n",
      "    \"balanced_accuracy\": 0.5208083196216325,\n",
      "    \"mcc\": 0.4154247244832002\n",
      "}\n"
     ]
    }
   ],
   "source": [
    "y_pred = nlp_predictor.predict(X_test)\n",
    "metrics = nlp_predictor.evaluate_predictions(\n",
    "    y_true=y_test, y_pred=y_pred, auxiliary_metrics=True)\n",
    "\n",
    "# Evaluation: accuracy on test data: 0.5391666666666667\n",
    "# Evaluations on test data:\n",
    "# {\n",
    "#     \"accuracy\": 0.5391666666666667,\n",
    "#     \"balanced_accuracy\": 0.5208083196216325,\n",
    "#     \"mcc\": 0.4154247244832002\n",
    "# }"
   ]
  },
  {
   "cell_type": "code",
   "execution_count": 14,
   "id": "22d05ca3",
   "metadata": {
    "collapsed": true
   },
   "outputs": [
    {
     "data": {
      "image/png": "[encoded data removed]",
      "text/plain": [
       "<Figure size 640x480 with 2 Axes>"
      ]
     },
     "metadata": {},
     "output_type": "display_data"
    }
   ],
   "source": [
    "confusion = ConfusionMatrixDisplay(\n",
    "    confusion_matrix=confusion_matrix(y_test, y_pred)\n",
    ")\n",
    "\n",
    "confusion.plot(cmap='viridis')\n",
    "\n",
    "plt.savefig('assets/Multi-Class_Classification_NLP_10.webp', bbox_inches='tight')"
   ]
  },
  {
   "cell_type": "markdown",
   "id": "5dc184e8",
   "metadata": {},
   "source": [
    "![AutoML with AutoGluon for Multi-Modal Data](./assets/Multi-Class_Classification_NLP_10.webp)"
   ]
  },
  {
   "cell_type": "markdown",
   "id": "9c2ffc13",
   "metadata": {},
   "source": [
    "## Binary Classification with the MultiModalPredictor"
   ]
  },
  {
   "cell_type": "code",
   "execution_count": 44,
   "id": "f7f43338",
   "metadata": {
    "collapsed": true
   },
   "outputs": [
    {
     "name": "stdout",
     "output_type": "stream",
     "text": [
      "--2023-06-23 19:55:01--  https://github.com/MSc-AI/SpamEmail/raw/main/spam_ham_dataset.csv\n",
      "Loaded CA certificate '/etc/ssl/certs/ca-certificates.crt'\n",
      "Resolving github.com (github.com)... 192.30.255.112\n",
      "Connecting to github.com (github.com)|192.30.255.112|:443... connected.\n",
      "HTTP request sent, awaiting response... 302 Found\n",
      "Location: https://raw.githubusercontent.com/MSc-AI/SpamEmail/main/spam_ham_dataset.csv [following]\n",
      "--2023-06-23 19:55:02--  https://raw.githubusercontent.com/MSc-AI/SpamEmail/main/spam_ham_dataset.csv\n",
      "Resolving raw.githubusercontent.com (raw.githubusercontent.com)... 185.199.111.133, 185.199.108.133, 185.199.110.133, ...\n",
      "Connecting to raw.githubusercontent.com (raw.githubusercontent.com)|185.199.111.133|:443... connected.\n",
      "HTTP request sent, awaiting response... 200 OK\n",
      "Length: 5400995 (5.2M) [text/plain]\n",
      "Saving to: ‘dataset/spam_ham_dataset.csv’\n",
      "\n",
      "spam_ham_dataset.cs 100%[===================>]   5.15M  2.54MB/s    in 2.0s    \n",
      "\n",
      "2023-06-23 19:55:06 (2.54 MB/s) - ‘dataset/spam_ham_dataset.csv’ saved [5400995/5400995]\n",
      "\n"
     ]
    }
   ],
   "source": [
    "# Spam Mails Dataset https://www.kaggle.com/datasets/venky73/spam-mails-dataset\n",
    "!wget https://github.com/MSc-AI/SpamEmail/raw/main/spam_ham_dataset.csv -P dataset"
   ]
  },
  {
   "cell_type": "markdown",
   "id": "6f0c8981",
   "metadata": {},
   "source": [
    "### Data Preprocessing"
   ]
  },
  {
   "cell_type": "code",
   "execution_count": 3,
   "id": "372bb3d5",
   "metadata": {},
   "outputs": [],
   "source": [
    "spam_data = TabularDataset('dataset/spam_ham_dataset.csv')"
   ]
  },
  {
   "cell_type": "code",
   "execution_count": 13,
   "id": "f45ebaf7",
   "metadata": {
    "collapsed": true
   },
   "outputs": [
    {
     "data": {
      "text/html": [
       "<div>\n",
       "<style scoped>\n",
       "    .dataframe tbody tr th:only-of-type {\n",
       "        vertical-align: middle;\n",
       "    }\n",
       "\n",
       "    .dataframe tbody tr th {\n",
       "        vertical-align: top;\n",
       "    }\n",
       "\n",
       "    .dataframe thead th {\n",
       "        text-align: right;\n",
       "    }\n",
       "</style>\n",
       "<table border=\"1\" class=\"dataframe\">\n",
       "  <thead>\n",
       "    <tr style=\"text-align: right;\">\n",
       "      <th></th>\n",
       "      <th>Unnamed: 0</th>\n",
       "      <th>label</th>\n",
       "      <th>text</th>\n",
       "    </tr>\n",
       "  </thead>\n",
       "  <tbody>\n",
       "    <tr>\n",
       "      <th>0</th>\n",
       "      <td>605</td>\n",
       "      <td>ham</td>\n",
       "      <td>Subject: enron methanol ; meter # : 988291\\nth...</td>\n",
       "    </tr>\n",
       "    <tr>\n",
       "      <th>1</th>\n",
       "      <td>2349</td>\n",
       "      <td>ham</td>\n",
       "      <td>Subject: hpl nom for january 9 , 2001\\n( see a...</td>\n",
       "    </tr>\n",
       "    <tr>\n",
       "      <th>2</th>\n",
       "      <td>3624</td>\n",
       "      <td>ham</td>\n",
       "      <td>Subject: neon retreat\\nho ho ho , we ' re arou...</td>\n",
       "    </tr>\n",
       "    <tr>\n",
       "      <th>3</th>\n",
       "      <td>4685</td>\n",
       "      <td>spam</td>\n",
       "      <td>Subject: photoshop , windows , office . cheap ...</td>\n",
       "    </tr>\n",
       "    <tr>\n",
       "      <th>4</th>\n",
       "      <td>2030</td>\n",
       "      <td>ham</td>\n",
       "      <td>Subject: re : indian springs\\nthis deal is to ...</td>\n",
       "    </tr>\n",
       "  </tbody>\n",
       "</table>\n",
       "</div>"
      ],
      "text/plain": [
       "   Unnamed: 0 label                                               text\n",
       "0         605   ham  Subject: enron methanol ; meter # : 988291\\nth...\n",
       "1        2349   ham  Subject: hpl nom for january 9 , 2001\\n( see a...\n",
       "2        3624   ham  Subject: neon retreat\\nho ho ho , we ' re arou...\n",
       "3        4685  spam  Subject: photoshop , windows , office . cheap ...\n",
       "4        2030   ham  Subject: re : indian springs\\nthis deal is to ..."
      ]
     },
     "execution_count": 13,
     "metadata": {},
     "output_type": "execute_result"
    }
   ],
   "source": [
    "spam_data.head(5)"
   ]
  },
  {
   "cell_type": "markdown",
   "id": "6c64ec75",
   "metadata": {},
   "source": [
    "|   | Unnamed: 0 | label | text | label_num |\n",
    "| -- | -- | -- | -- | -- |\n",
    "| 0 | 605 | ham | Subject: enron methanol ; meter # : 988291\\nth... | 0 |\n",
    "| 1 | 2349 | ham | Subject: hpl nom for january 9 , 2001\\n( see a... | 0 |\n",
    "| 2 | 3624 | ham | Subject: neon retreat\\nho ho ho , we ' re arou... | 0 |\n",
    "| 3 | 4685 | spam | Subject: photoshop , windows , office . cheap ... | 1 |\n",
    "| 4 | 2030 | ham | Subject: re : indian springs\\nthis deal is to ... | 0 |"
   ]
  },
  {
   "cell_type": "code",
   "execution_count": 12,
   "id": "818be9a0",
   "metadata": {},
   "outputs": [],
   "source": [
    "# drop second label\n",
    "spam_data = spam_data.drop(columns=['label_num'], axis=1)"
   ]
  },
  {
   "cell_type": "code",
   "execution_count": 14,
   "id": "ab2eb2bd",
   "metadata": {},
   "outputs": [
    {
     "data": {
      "text/plain": [
       "ham     3672\n",
       "spam    1499\n",
       "Name: label, dtype: int64"
      ]
     },
     "execution_count": 14,
     "metadata": {},
     "output_type": "execute_result"
    }
   ],
   "source": [
    "spam_data['label'].value_counts()\n",
    "# ham     3672\n",
    "# spam    1499\n",
    "# Name: label, dtype: int64"
   ]
  },
  {
   "cell_type": "code",
   "execution_count": 15,
   "id": "88f1a629",
   "metadata": {},
   "outputs": [],
   "source": [
    "# train / test split\n",
    "spam_train_data = spam_data.sample(frac=0.8 , random_state=SEED)\n",
    "spam_test_data = spam_data.drop(spam_train_data.index)"
   ]
  },
  {
   "cell_type": "markdown",
   "id": "95ac3665",
   "metadata": {},
   "source": [
    "### Model Training"
   ]
  },
  {
   "cell_type": "code",
   "execution_count": 16,
   "id": "898f49fa",
   "metadata": {},
   "outputs": [],
   "source": [
    "mm_predictor = MultiModalPredictor(label='label', path=MODEL_PATH)"
   ]
  },
  {
   "cell_type": "code",
   "execution_count": null,
   "id": "adc5d17d",
   "metadata": {},
   "outputs": [],
   "source": [
    "mm_predictor.fit(spam_train_data)"
   ]
  },
  {
   "cell_type": "markdown",
   "id": "0ef6e139",
   "metadata": {},
   "source": [
    "### Model Evaluation"
   ]
  },
  {
   "cell_type": "code",
   "execution_count": 18,
   "id": "fe916929",
   "metadata": {
    "collapsed": true
   },
   "outputs": [
    {
     "name": "stderr",
     "output_type": "stream",
     "text": [
      "/home/xiaodie/.local/lib/python3.10/site-packages/sklearn/base.py:288: UserWarning: Trying to unpickle estimator LabelEncoder from version 1.1.3 when using version 1.2.0. This might lead to breaking code or invalid results. Use at your own risk. For more info please refer to:\n",
      "https://scikit-learn.org/stable/model_persistence.html#security-maintainability-limitations\n",
      "  warnings.warn(\n",
      "/home/xiaodie/.local/lib/python3.10/site-packages/sklearn/base.py:288: UserWarning: Trying to unpickle estimator StandardScaler from version 1.1.3 when using version 1.2.0. This might lead to breaking code or invalid results. Use at your own risk. For more info please refer to:\n",
      "https://scikit-learn.org/stable/model_persistence.html#security-maintainability-limitations\n",
      "  warnings.warn(\n",
      "Load pretrained checkpoint: /run/media/xiaodie/dev/automl-gluon-tabular-data/03_Multi-Class_Classification_NLP/model/model.ckpt\n"
     ]
    }
   ],
   "source": [
    "mm_predictor = MultiModalPredictor.load('model/')"
   ]
  },
  {
   "cell_type": "code",
   "execution_count": null,
   "id": "7b8fdf14",
   "metadata": {},
   "outputs": [],
   "source": [
    "model_scoring = mm_predictor.evaluate(spam_test_data, metrics=['acc', 'f1'])\n",
    "print(model_scoring)\n",
    "# {'acc': 0.965183752417795, 'f1': 0.9400000000000001}"
   ]
  },
  {
   "cell_type": "code",
   "execution_count": 21,
   "id": "5612dcca",
   "metadata": {},
   "outputs": [],
   "source": [
    "test_email1 = \"Hi,\\n We specialize in developing custom software and related applications and we can develop cost effective and high quality software for you. A brief introduction of what we do is given below:\\n Web Design.\\n Web Development\\n Android & IOS App Development.\\n Website Maintenance\\n Digital Marketing\\n Graphics Designing.\\n SEO SMO Adword.\\n We are sincerely looking at the prospect of a mutually beneficial relationship with you and your company and to the opportunities the future may bring.\\n Regards\"\n",
    "test_email2 = \"Tell them I hate them. Is the Space Pope reptilian!? Tell her she looks thin. Hello, little man. I will destroy you! I've got to find a way to escape the horrible ravages of youth. Suddenly, I'm going to the bathroom like clockwork, every three hours. And those jerks at Social Security stopped sending me checks. Now 'I' have to pay them'!\""
   ]
  },
  {
   "cell_type": "code",
   "execution_count": 23,
   "id": "633b0812",
   "metadata": {},
   "outputs": [
    {
     "data": {
      "text/plain": [
       "array(['spam', 'ham'], dtype=object)"
      ]
     },
     "execution_count": 23,
     "metadata": {},
     "output_type": "execute_result"
    }
   ],
   "source": [
    "mm_predictor.predict({'text':[test_email1,test_email2]})\n",
    "# array(['spam', 'ham'], dtype=object)"
   ]
  },
  {
   "cell_type": "code",
   "execution_count": 25,
   "id": "49f9eb6f",
   "metadata": {},
   "outputs": [
    {
     "name": "stdout",
     "output_type": "stream",
     "text": [
      "['ham' 'spam']\n"
     ]
    },
    {
     "data": {
      "text/plain": [
       "array([[0.02339679, 0.97660315],\n",
       "       [0.91861194, 0.08138806]], dtype=float32)"
      ]
     },
     "execution_count": 25,
     "metadata": {},
     "output_type": "execute_result"
    }
   ],
   "source": [
    "print(mm_predictor.class_labels)\n",
    "mm_predictor.predict_proba({'text':[test_email1,test_email2]})\n",
    "# ['ham' 'spam']\n",
    "# array([[0.02339679, 0.97660315],\n",
    "#        [0.91861194, 0.08138806]], dtype=float32)"
   ]
  },
  {
   "cell_type": "code",
   "execution_count": null,
   "id": "537d5a9e",
   "metadata": {},
   "outputs": [],
   "source": []
  }
 ],
 "metadata": {
  "jupytext": {
   "formats": "ipynb,md"
  },
  "kernelspec": {
   "display_name": "Python 3 (ipykernel)",
   "language": "python",
   "name": "python3"
  },
  "language_info": {
   "codemirror_mode": {
    "name": "ipython",
    "version": 3
   },
   "file_extension": ".py",
   "mimetype": "text/x-python",
   "name": "python",
   "nbconvert_exporter": "python",
   "pygments_lexer": "ipython3",
   "version": "3.10.10"
  }
 },
 "nbformat": 4,
 "nbformat_minor": 5
}
